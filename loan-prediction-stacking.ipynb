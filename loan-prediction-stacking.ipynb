{
 "cells": [
  {
   "cell_type": "code",
   "execution_count": 1,
   "id": "e933f4a8",
   "metadata": {
    "execution": {
     "iopub.execute_input": "2024-10-31T15:04:17.654502Z",
     "iopub.status.busy": "2024-10-31T15:04:17.654049Z",
     "iopub.status.idle": "2024-10-31T15:04:17.659564Z",
     "shell.execute_reply": "2024-10-31T15:04:17.658605Z"
    },
    "papermill": {
     "duration": 0.017912,
     "end_time": "2024-10-31T15:04:17.661748",
     "exception": false,
     "start_time": "2024-10-31T15:04:17.643836",
     "status": "completed"
    },
    "tags": []
   },
   "outputs": [],
   "source": [
    "# !pip install -U lightautoml\n",
    "# !pip install pandas==1.4.3"
   ]
  },
  {
   "cell_type": "code",
   "execution_count": 2,
   "id": "e8eb60b0",
   "metadata": {
    "_cell_guid": "b1076dfc-b9ad-4769-8c92-a6c4dae69d19",
    "_uuid": "8f2839f25d086af736a60e9eeb907d3b93b6e0e5",
    "execution": {
     "iopub.execute_input": "2024-10-31T15:04:17.679206Z",
     "iopub.status.busy": "2024-10-31T15:04:17.678835Z",
     "iopub.status.idle": "2024-10-31T15:04:18.508289Z",
     "shell.execute_reply": "2024-10-31T15:04:18.506624Z"
    },
    "papermill": {
     "duration": 0.841001,
     "end_time": "2024-10-31T15:04:18.510847",
     "exception": false,
     "start_time": "2024-10-31T15:04:17.669846",
     "status": "completed"
    },
    "tags": []
   },
   "outputs": [
    {
     "name": "stdout",
     "output_type": "stream",
     "text": [
      "/kaggle/input/playground-series-s4e10/sample_submission.csv\n",
      "/kaggle/input/playground-series-s4e10/train.csv\n",
      "/kaggle/input/playground-series-s4e10/test.csv\n",
      "/kaggle/input/loan-approval-prediction/credit_risk_dataset.csv\n"
     ]
    }
   ],
   "source": [
    "# This Python 3 environment comes with many helpful analytics libraries installed\n",
    "# It is defined by the kaggle/python Docker image: https://github.com/kaggle/docker-python\n",
    "# For example, here's several helpful packages to load\n",
    "\n",
    "import numpy as np # linear algebra\n",
    "import pandas as pd # data processing, CSV file I/O (e.g. pd.read_csv)\n",
    "\n",
    "# Input data files are available in the read-only \"../input/\" directory\n",
    "# For example, running this (by clicking run or pressing Shift+Enter) will list all files under the input directory\n",
    "\n",
    "import os\n",
    "for dirname, _, filenames in os.walk('/kaggle/input'):\n",
    "    for filename in filenames:\n",
    "        print(os.path.join(dirname, filename))\n",
    "\n",
    "# You can write up to 20GB to the current directory (/kaggle/working/) that gets preserved as output when you create a version using \"Save & Run All\" \n",
    "# You can also write temporary files to /kaggle/temp/, but they won't be saved outside of the current session"
   ]
  },
  {
   "cell_type": "code",
   "execution_count": 3,
   "id": "773d55df",
   "metadata": {
    "execution": {
     "iopub.execute_input": "2024-10-31T15:04:18.528694Z",
     "iopub.status.busy": "2024-10-31T15:04:18.528140Z",
     "iopub.status.idle": "2024-10-31T15:04:18.802035Z",
     "shell.execute_reply": "2024-10-31T15:04:18.801022Z"
    },
    "papermill": {
     "duration": 0.285772,
     "end_time": "2024-10-31T15:04:18.804665",
     "exception": false,
     "start_time": "2024-10-31T15:04:18.518893",
     "status": "completed"
    },
    "tags": []
   },
   "outputs": [],
   "source": [
    "X_TRAIN = pd.read_csv('/kaggle/input/playground-series-s4e10/train.csv')\n",
    "X_TEST = pd.read_csv('/kaggle/input/playground-series-s4e10/test.csv')\n",
    "X_ORIG = pd.read_csv('/kaggle/input/loan-approval-prediction/credit_risk_dataset.csv')"
   ]
  },
  {
   "cell_type": "code",
   "execution_count": 4,
   "id": "8bdd39d9",
   "metadata": {
    "execution": {
     "iopub.execute_input": "2024-10-31T15:04:18.823755Z",
     "iopub.status.busy": "2024-10-31T15:04:18.822966Z",
     "iopub.status.idle": "2024-10-31T15:04:18.841163Z",
     "shell.execute_reply": "2024-10-31T15:04:18.840105Z"
    },
    "papermill": {
     "duration": 0.031056,
     "end_time": "2024-10-31T15:04:18.843724",
     "exception": false,
     "start_time": "2024-10-31T15:04:18.812668",
     "status": "completed"
    },
    "tags": []
   },
   "outputs": [],
   "source": [
    "X_TRAIN = pd.concat([X_TRAIN, X_ORIG])"
   ]
  },
  {
   "cell_type": "code",
   "execution_count": 5,
   "id": "53a39742",
   "metadata": {
    "execution": {
     "iopub.execute_input": "2024-10-31T15:04:18.862252Z",
     "iopub.status.busy": "2024-10-31T15:04:18.861524Z",
     "iopub.status.idle": "2024-10-31T15:04:18.876825Z",
     "shell.execute_reply": "2024-10-31T15:04:18.875646Z"
    },
    "papermill": {
     "duration": 0.026911,
     "end_time": "2024-10-31T15:04:18.879398",
     "exception": false,
     "start_time": "2024-10-31T15:04:18.852487",
     "status": "completed"
    },
    "tags": []
   },
   "outputs": [],
   "source": [
    "X_TRAIN['person_emp_length'] = X_TRAIN['person_emp_length'].fillna(X_TRAIN['person_emp_length'].median())\n",
    "X_TRAIN['loan_int_rate'] = X_TRAIN['loan_int_rate'].fillna(X_TRAIN['loan_int_rate'].median())"
   ]
  },
  {
   "cell_type": "code",
   "execution_count": 6,
   "id": "7808a30d",
   "metadata": {
    "execution": {
     "iopub.execute_input": "2024-10-31T15:04:18.897209Z",
     "iopub.status.busy": "2024-10-31T15:04:18.896458Z",
     "iopub.status.idle": "2024-10-31T15:04:18.926572Z",
     "shell.execute_reply": "2024-10-31T15:04:18.925551Z"
    },
    "papermill": {
     "duration": 0.041919,
     "end_time": "2024-10-31T15:04:18.929255",
     "exception": false,
     "start_time": "2024-10-31T15:04:18.887336",
     "status": "completed"
    },
    "tags": []
   },
   "outputs": [
    {
     "name": "stdout",
     "output_type": "stream",
     "text": [
      "<class 'pandas.core.frame.DataFrame'>\n",
      "RangeIndex: 39098 entries, 0 to 39097\n",
      "Data columns (total 12 columns):\n",
      " #   Column                      Non-Null Count  Dtype  \n",
      "---  ------                      --------------  -----  \n",
      " 0   id                          39098 non-null  int64  \n",
      " 1   person_age                  39098 non-null  int64  \n",
      " 2   person_income               39098 non-null  int64  \n",
      " 3   person_home_ownership       39098 non-null  object \n",
      " 4   person_emp_length           39098 non-null  float64\n",
      " 5   loan_intent                 39098 non-null  object \n",
      " 6   loan_grade                  39098 non-null  object \n",
      " 7   loan_amnt                   39098 non-null  int64  \n",
      " 8   loan_int_rate               39098 non-null  float64\n",
      " 9   loan_percent_income         39098 non-null  float64\n",
      " 10  cb_person_default_on_file   39098 non-null  object \n",
      " 11  cb_person_cred_hist_length  39098 non-null  int64  \n",
      "dtypes: float64(3), int64(5), object(4)\n",
      "memory usage: 3.6+ MB\n"
     ]
    }
   ],
   "source": [
    "X_TEST.info()\n"
   ]
  },
  {
   "cell_type": "code",
   "execution_count": 7,
   "id": "231c57db",
   "metadata": {
    "execution": {
     "iopub.execute_input": "2024-10-31T15:04:18.947152Z",
     "iopub.status.busy": "2024-10-31T15:04:18.946751Z",
     "iopub.status.idle": "2024-10-31T15:04:18.953487Z",
     "shell.execute_reply": "2024-10-31T15:04:18.952410Z"
    },
    "papermill": {
     "duration": 0.01805,
     "end_time": "2024-10-31T15:04:18.955545",
     "exception": false,
     "start_time": "2024-10-31T15:04:18.937495",
     "status": "completed"
    },
    "tags": []
   },
   "outputs": [],
   "source": [
    "X_TRAIN.pop('id')\n",
    "id = X_TEST.pop('id')\n",
    "Y_TRAIN = X_TRAIN.pop('loan_status')"
   ]
  },
  {
   "cell_type": "code",
   "execution_count": 8,
   "id": "e3e9de51",
   "metadata": {
    "execution": {
     "iopub.execute_input": "2024-10-31T15:04:18.973519Z",
     "iopub.status.busy": "2024-10-31T15:04:18.973107Z",
     "iopub.status.idle": "2024-10-31T15:04:19.008024Z",
     "shell.execute_reply": "2024-10-31T15:04:19.006933Z"
    },
    "papermill": {
     "duration": 0.047055,
     "end_time": "2024-10-31T15:04:19.010675",
     "exception": false,
     "start_time": "2024-10-31T15:04:18.963620",
     "status": "completed"
    },
    "tags": []
   },
   "outputs": [],
   "source": [
    "numerical = X_TRAIN.select_dtypes(['int64', 'float64']).columns.to_list()\n",
    "categorical = X_TRAIN.select_dtypes(['object']).columns.to_list()"
   ]
  },
  {
   "cell_type": "code",
   "execution_count": 9,
   "id": "e3386671",
   "metadata": {
    "execution": {
     "iopub.execute_input": "2024-10-31T15:04:19.028374Z",
     "iopub.status.busy": "2024-10-31T15:04:19.027984Z",
     "iopub.status.idle": "2024-10-31T15:04:19.033135Z",
     "shell.execute_reply": "2024-10-31T15:04:19.032138Z"
    },
    "papermill": {
     "duration": 0.017161,
     "end_time": "2024-10-31T15:04:19.035843",
     "exception": false,
     "start_time": "2024-10-31T15:04:19.018682",
     "status": "completed"
    },
    "tags": []
   },
   "outputs": [
    {
     "name": "stdout",
     "output_type": "stream",
     "text": [
      "numerical  ['person_age', 'person_income', 'person_emp_length', 'loan_amnt', 'loan_int_rate', 'loan_percent_income', 'cb_person_cred_hist_length']\n",
      "categorical ['person_home_ownership', 'loan_intent', 'loan_grade', 'cb_person_default_on_file']\n"
     ]
    }
   ],
   "source": [
    "print('numerical ', numerical)\n",
    "print('categorical', categorical)"
   ]
  },
  {
   "cell_type": "code",
   "execution_count": 10,
   "id": "d7d6dbd6",
   "metadata": {
    "execution": {
     "iopub.execute_input": "2024-10-31T15:04:19.053762Z",
     "iopub.status.busy": "2024-10-31T15:04:19.053360Z",
     "iopub.status.idle": "2024-10-31T15:04:19.167151Z",
     "shell.execute_reply": "2024-10-31T15:04:19.166112Z"
    },
    "papermill": {
     "duration": 0.125569,
     "end_time": "2024-10-31T15:04:19.169676",
     "exception": false,
     "start_time": "2024-10-31T15:04:19.044107",
     "status": "completed"
    },
    "tags": []
   },
   "outputs": [],
   "source": [
    "X_TRAIN_COPY = X_TRAIN.copy()\n",
    "X_TEST_COPY = X_TEST.copy()\n",
    "\n",
    "X_TRAIN_COPY2 = X_TRAIN.copy()\n",
    "X_TEST_COPY2 = X_TEST.copy()\n",
    "categorical = X_TRAIN.select_dtypes(['object']).columns.to_list()\n",
    "for col in categorical:\n",
    "    X_TRAIN_COPY2[col] = X_TRAIN_COPY2[col].astype('category')\n",
    "    X_TEST_COPY2[col] = X_TEST_COPY2[col].astype('category')"
   ]
  },
  {
   "cell_type": "code",
   "execution_count": 11,
   "id": "40fa9674",
   "metadata": {
    "execution": {
     "iopub.execute_input": "2024-10-31T15:04:19.187401Z",
     "iopub.status.busy": "2024-10-31T15:04:19.187010Z",
     "iopub.status.idle": "2024-10-31T15:04:19.201944Z",
     "shell.execute_reply": "2024-10-31T15:04:19.200856Z"
    },
    "papermill": {
     "duration": 0.026345,
     "end_time": "2024-10-31T15:04:19.204148",
     "exception": false,
     "start_time": "2024-10-31T15:04:19.177803",
     "status": "completed"
    },
    "tags": []
   },
   "outputs": [
    {
     "name": "stdout",
     "output_type": "stream",
     "text": [
      "<class 'pandas.core.frame.DataFrame'>\n",
      "Index: 91226 entries, 0 to 32580\n",
      "Data columns (total 11 columns):\n",
      " #   Column                      Non-Null Count  Dtype   \n",
      "---  ------                      --------------  -----   \n",
      " 0   person_age                  91226 non-null  int64   \n",
      " 1   person_income               91226 non-null  int64   \n",
      " 2   person_home_ownership       91226 non-null  category\n",
      " 3   person_emp_length           91226 non-null  float64 \n",
      " 4   loan_intent                 91226 non-null  category\n",
      " 5   loan_grade                  91226 non-null  category\n",
      " 6   loan_amnt                   91226 non-null  int64   \n",
      " 7   loan_int_rate               91226 non-null  float64 \n",
      " 8   loan_percent_income         91226 non-null  float64 \n",
      " 9   cb_person_default_on_file   91226 non-null  category\n",
      " 10  cb_person_cred_hist_length  91226 non-null  int64   \n",
      "dtypes: category(4), float64(3), int64(4)\n",
      "memory usage: 5.9 MB\n"
     ]
    }
   ],
   "source": [
    "X_TRAIN_COPY2.info()"
   ]
  },
  {
   "cell_type": "code",
   "execution_count": 12,
   "id": "bf891fb0",
   "metadata": {
    "execution": {
     "iopub.execute_input": "2024-10-31T15:04:19.221990Z",
     "iopub.status.busy": "2024-10-31T15:04:19.221569Z",
     "iopub.status.idle": "2024-10-31T15:04:19.281974Z",
     "shell.execute_reply": "2024-10-31T15:04:19.280889Z"
    },
    "papermill": {
     "duration": 0.072218,
     "end_time": "2024-10-31T15:04:19.284402",
     "exception": false,
     "start_time": "2024-10-31T15:04:19.212184",
     "status": "completed"
    },
    "tags": []
   },
   "outputs": [],
   "source": [
    "def factorizeCategoricalColumns(data):\n",
    "    dataCopy = data.copy()\n",
    "    categorical = data.select_dtypes(['object']).columns.to_list()\n",
    "    for col in categorical:\n",
    "        dataCopy[col], _ = dataCopy[col].factorize(sort=True)\n",
    "    return dataCopy\n",
    "\n",
    "X_TRAIN_COPY = factorizeCategoricalColumns(X_TRAIN_COPY)\n",
    "X_TEST_COPY = factorizeCategoricalColumns(X_TEST_COPY)"
   ]
  },
  {
   "cell_type": "code",
   "execution_count": 13,
   "id": "a947390c",
   "metadata": {
    "execution": {
     "iopub.execute_input": "2024-10-31T15:04:19.302328Z",
     "iopub.status.busy": "2024-10-31T15:04:19.301601Z",
     "iopub.status.idle": "2024-10-31T15:04:19.306100Z",
     "shell.execute_reply": "2024-10-31T15:04:19.305152Z"
    },
    "papermill": {
     "duration": 0.015846,
     "end_time": "2024-10-31T15:04:19.308302",
     "exception": false,
     "start_time": "2024-10-31T15:04:19.292456",
     "status": "completed"
    },
    "tags": []
   },
   "outputs": [],
   "source": [
    "# oe = OrdinalEncoder(handle_unknown='use_encoded_value', unknown_value=-1)\n",
    "# X_oe = pd.DataFrame(oe.fit_transform(X[cat_cols]), columns = cat_cols).fillna(0).astype(int)\n",
    "\n",
    "# test_oe = pd.DataFrame(oe.transform(test_data[cat_cols]), columns = cat_cols).fillna(0).astype(int)\n",
    "# X_oe_concated = pd.concat([X_oe, X[num_cols]], axis= 1)\n",
    "# test_oe_concated = pd.concat([test_oe, test_data[num_cols]], axis= 1)"
   ]
  },
  {
   "cell_type": "code",
   "execution_count": 14,
   "id": "cfe6d39d",
   "metadata": {
    "execution": {
     "iopub.execute_input": "2024-10-31T15:04:19.326758Z",
     "iopub.status.busy": "2024-10-31T15:04:19.326320Z",
     "iopub.status.idle": "2024-10-31T15:04:19.742935Z",
     "shell.execute_reply": "2024-10-31T15:04:19.741648Z"
    },
    "papermill": {
     "duration": 0.428699,
     "end_time": "2024-10-31T15:04:19.745430",
     "exception": false,
     "start_time": "2024-10-31T15:04:19.316731",
     "status": "completed"
    },
    "tags": []
   },
   "outputs": [],
   "source": [
    "for col in X_TRAIN.columns.to_list():\n",
    "    X_TRAIN[col] = X_TRAIN[col].astype('string')\n",
    "    X_TEST[col] = X_TEST[col].astype('string')"
   ]
  },
  {
   "cell_type": "code",
   "execution_count": 15,
   "id": "f6d44f0c",
   "metadata": {
    "execution": {
     "iopub.execute_input": "2024-10-31T15:04:19.763591Z",
     "iopub.status.busy": "2024-10-31T15:04:19.763155Z",
     "iopub.status.idle": "2024-10-31T15:04:19.777308Z",
     "shell.execute_reply": "2024-10-31T15:04:19.776325Z"
    },
    "papermill": {
     "duration": 0.026113,
     "end_time": "2024-10-31T15:04:19.779648",
     "exception": false,
     "start_time": "2024-10-31T15:04:19.753535",
     "status": "completed"
    },
    "tags": []
   },
   "outputs": [],
   "source": [
    "#X_TRAIN.shape\n",
    "\n",
    "lgb_params= {\n",
    "    'objective': 'binary',\n",
    "    'metric': 'auc',\n",
    "    'max_depth': -1,\n",
    "    'verbosity': -1,\n",
    "    'n_estimators': 1500,\n",
    "    'max_bin': 1024,\n",
    "    'boosting_type': 'gbdt', #'dart'\n",
    "    'colsample_bytree': 0.5673775386473462,        \n",
    "    'eta': 0.05446876730023387,\n",
    "    'reg_lambda': 10.787843597294561,\n",
    "    'min_child_samples': 69,\n",
    "    'random_state': 42,\n",
    "    #'early_stopping_rounds': 150,\n",
    "    'verbose':1,\n",
    "    #'categorical_feature': cat_indices,\n",
    "}\n",
    "\n",
    "xgb_params= {\n",
    "    'objective': 'binary:logistic',\n",
    "    'eval_metric': 'auc',\n",
    "    'max_depth': 7,\n",
    "    'eta': 0.07964177396162775,\n",
    "    'reg_lambda': 38.499443612904315,\n",
    "    'subsample': 0.8778759317150353,\n",
    "    'colsample_bytree': 0.6504220261795185,\n",
    "    'random_state': 42,\n",
    "    'verbosity':0,\n",
    "    'enable_categorical': True,\n",
    "    'min_child_weight': 5,\n",
    "    #'tree_method': 'hist',\n",
    "}\n",
    "xgb_params1 = {\n",
    "    'eval_metric': 'auc',\n",
    "    'n_estimators': 5000,\n",
    "    'learning_rate': 0.10999995057648126,\n",
    "    'max_depth': 8,\n",
    "    'subsample': 0.9999999999999999,\n",
    "    'colsample_bytree': 0.49681888251576845,\n",
    "    'reg_alpha': 8.919028743833996e-06,\n",
    "    'reg_lambda': 9.999999999999998,\n",
    "    'gamma': 0.09787383664032377,\n",
    "    'min_child_weight': 1.0,\n",
    "    'max_bin': 262143,\n",
    "#     'tree_method': 'hist',\n",
    "#     'device': 'cuda',\n",
    "    'enable_categorical': True,\n",
    "    #'early_stopping_rounds': 100,\n",
    "}\n",
    "\n",
    "cb_params_3 = {'task_type': \"CPU\",\n",
    "'iterations': 891,\n",
    "'depth': 7,\n",
    "'learning_rate': 0.0448563477253477,\n",
    "'l2_leaf_reg': 8.309884320742215,\n",
    "'border_count': 161,\n",
    "'random_strength': 5.297381835241815,\n",
    "'bagging_temperature': 0.10498408144882451,\n",
    "'scale_pos_weight': 2.3753101495123747,\n",
    "'verbose': False}\n",
    "\n",
    "gb_best_params = {'random_state': 42,\n",
    "                  'learning_rate': 0.08556786152814144, \n",
    "                  'max_depth': 11, 'n_estimators': 1130, \n",
    "                  'max_leaf_nodes': 90, \n",
    "                  'min_samples_leaf': 0.0025834075077401774, \n",
    "                  'min_samples_split': 0.11732169002596993, \n",
    "                  'min_weight_fraction_leaf': 0.0014666658781746856, \n",
    "                  'subsample': 0.9514006946730825}\n",
    "\n",
    "hgb_params = {\n",
    "    'categorical_features': categorical,\n",
    "    'l2_regularization': 3.2797348813056515,\n",
    "    'learning_rate': 0.04290001508632896,\n",
    "    'max_depth': 292,\n",
    "    #'max_features': 0.9605841946578942,\n",
    "    'max_iter': 2978,\n",
    "    'max_leaf_nodes': 38,\n",
    "    'min_samples_leaf': 254,\n",
    "    'random_state': 42\n",
    "}\n",
    "\n",
    "lgb_dart_params = {\n",
    "    'boosting_type': 'dart',\n",
    "    'colsample_bytree': 0.46939540409784575,\n",
    "    'learning_rate': 0.0877911638744417,\n",
    "    'min_child_samples': 61,\n",
    "    'min_child_weight': 0.7580677713575383,\n",
    "    'n_estimators': 877,\n",
    "    'n_jobs': -1,\n",
    "    'num_leaves': 35,\n",
    "    'random_state': 1859,\n",
    "    'reg_alpha': 2.5638237507752457,\n",
    "    'reg_lambda': 1.8975230326974724,\n",
    "    'scale_pos_weight': 2.7023753131827455,\n",
    "    'subsample': 0.8009452917870442,\n",
    "    'verbose': -1\n",
    "}\n",
    "\n",
    "lgb_goss_params = {\n",
    "    'boosting_type': 'goss',\n",
    "    'colsample_bytree': 0.24954643970263424,\n",
    "    'learning_rate': 0.07188725215845243,\n",
    "    'max_bins': 5626,\n",
    "    'min_child_samples': 22,\n",
    "    'min_child_weight': 0.7179252102190649,\n",
    "    'n_estimators': 1319,\n",
    "    'n_jobs': -1,\n",
    "    'num_leaves': 21,\n",
    "    'random_state': 42,\n",
    "    'reg_alpha': 6.047743594793198,\n",
    "    'reg_lambda': 5.277073776908381,\n",
    "    'scale_pos_weight': 5.885539605359165,\n",
    "    'subsample': 0.16046944461130142,\n",
    "    'verbose': -1\n",
    "}\n",
    "\n",
    "cb_params_4 ={'objective': 'Logloss',\n",
    "                                   'eval_metric': \"AUC\",\n",
    "                                   'verbose': 0,\n",
    "                                   'random_state': 42,\n",
    "                                   'n_estimators': 5000,\n",
    "                                   'scale_pos_weight': 2.3753101495123747,\n",
    "                                   'learning_rate': 0.08746007467982597,\n",
    "                                   'l2_leaf_reg': 3.50212953568363,\n",
    "                                   'bagging_temperature': 0.15909129439715475,\n",
    "                                   'random_strength': 1.6930893184821436,\n",
    "                                   'depth': 4, \n",
    "                                   'min_data_in_leaf': 203,\n",
    "                                   'grow_policy': 'SymmetricTree',\n",
    "                                   'boosting_type': 'Plain',\n",
    "                                }"
   ]
  },
  {
   "cell_type": "code",
   "execution_count": 16,
   "id": "8ca605d8",
   "metadata": {
    "execution": {
     "iopub.execute_input": "2024-10-31T15:04:19.797147Z",
     "iopub.status.busy": "2024-10-31T15:04:19.796750Z",
     "iopub.status.idle": "2024-10-31T15:04:21.099231Z",
     "shell.execute_reply": "2024-10-31T15:04:21.098158Z"
    },
    "papermill": {
     "duration": 1.314092,
     "end_time": "2024-10-31T15:04:21.101737",
     "exception": false,
     "start_time": "2024-10-31T15:04:19.787645",
     "status": "completed"
    },
    "tags": []
   },
   "outputs": [],
   "source": [
    "from sklearn.model_selection import StratifiedKFold\n",
    "skf = StratifiedKFold(n_splits=10, shuffle=True, random_state=42)"
   ]
  },
  {
   "cell_type": "code",
   "execution_count": 17,
   "id": "ddf8e6c2",
   "metadata": {
    "execution": {
     "iopub.execute_input": "2024-10-31T15:04:21.120510Z",
     "iopub.status.busy": "2024-10-31T15:04:21.119471Z",
     "iopub.status.idle": "2024-10-31T15:26:30.763702Z",
     "shell.execute_reply": "2024-10-31T15:26:30.762698Z"
    },
    "papermill": {
     "duration": 1329.656204,
     "end_time": "2024-10-31T15:26:30.766156",
     "exception": false,
     "start_time": "2024-10-31T15:04:21.109952",
     "status": "completed"
    },
    "tags": []
   },
   "outputs": [
    {
     "name": "stdout",
     "output_type": "stream",
     "text": [
      "iteration done  0\n",
      "iteration done  1\n",
      "iteration done  2\n",
      "iteration done  3\n",
      "iteration done  4\n",
      "iteration done  5\n",
      "iteration done  6\n",
      "iteration done  7\n",
      "iteration done  8\n",
      "iteration done  9\n"
     ]
    }
   ],
   "source": [
    "from sklearn.model_selection import StratifiedKFold\n",
    "from catboost import CatBoostClassifier\n",
    "from xgboost import XGBClassifier\n",
    "from lightgbm import LGBMClassifier\n",
    "\n",
    "skf = StratifiedKFold(n_splits=10, shuffle=True, random_state=42)\n",
    "predictions = [] # Initialize an array to store predictions\n",
    "i = 0 \n",
    "cb_params = {\n",
    "    'border_count': 233,\n",
    "    'colsample_bylevel': 0.411551721028093,\n",
    "    'depth': 8,\n",
    "    'iterations': 1664,\n",
    "    'l2_leaf_reg': 1.5162407257384525,\n",
    "    'learning_rate': 0.01380027964891961,\n",
    "    'min_child_samples': 218,\n",
    "    'random_state': 1859,\n",
    "    'random_strength': 0.4028418793015393,\n",
    "    'scale_pos_weight': 1.7183429881588008,\n",
    "    'subsample': 0.996166121986487,\n",
    "    'verbose': False\n",
    "}\n",
    "cb_params_2 = {'objective': 'Logloss',\n",
    "                                   'eval_metric': \"AUC\",\n",
    "                                   'verbose': 0,\n",
    "                                   'random_state': 42,\n",
    "                                   'n_estimators': 5000,\n",
    "                                   'scale_pos_weight': 1.7183429881588008,\n",
    "                                   'learning_rate': 0.057695680893866355,\n",
    "                                   'l2_leaf_reg': 8.718243448685213,\n",
    "                                   'bagging_temperature': 15.939315101482947,\n",
    "                                   'random_strength': 1.2951116775412417,\n",
    "                                   'depth': 5,\n",
    "                                   'min_data_in_leaf': 65 \n",
    "                                }\n",
    "            \n",
    "all_predictions = []\n",
    "all_truth_values = []\n",
    "i = 0\n",
    "training_dataframe = pd.DataFrame()\n",
    "for fold, (train_index, val_index) in enumerate(skf.split(X_TRAIN, Y_TRAIN)):\n",
    "    X_train, X_val = X_TRAIN.iloc[train_index], X_TRAIN.iloc[val_index]\n",
    "    y_train, y_val = Y_TRAIN.iloc[train_index], Y_TRAIN.iloc[val_index]\n",
    " \n",
    "    model =  CatBoostClassifier( **cb_params_3 , cat_features=X_TRAIN.columns.to_list()) \n",
    "    model.fit(X_train, y_train)\n",
    "    fold_predictions = model.predict_proba(X_val)[:,1]\n",
    "    all_predictions.extend(fold_predictions)\n",
    "    all_truth_values.extend(y_val)    \n",
    "   \n",
    "    print(\"iteration done \", i)\n",
    "    predictions.append(model.predict_proba(X_TEST)[:,1]) \n",
    "    i = i +1         # Store predictions for the validation fold\n",
    "  \n",
    "training_dataframe['cat1'] = all_predictions\n",
    "training_dataframe['loan_status'] = all_truth_values\n"
   ]
  },
  {
   "cell_type": "code",
   "execution_count": 18,
   "id": "902f380a",
   "metadata": {
    "execution": {
     "iopub.execute_input": "2024-10-31T15:26:30.785593Z",
     "iopub.status.busy": "2024-10-31T15:26:30.784770Z",
     "iopub.status.idle": "2024-10-31T15:30:00.027241Z",
     "shell.execute_reply": "2024-10-31T15:30:00.026103Z"
    },
    "papermill": {
     "duration": 209.263553,
     "end_time": "2024-10-31T15:30:00.038342",
     "exception": false,
     "start_time": "2024-10-31T15:26:30.774789",
     "status": "completed"
    },
    "tags": []
   },
   "outputs": [
    {
     "name": "stdout",
     "output_type": "stream",
     "text": [
      "iteration done  0\n",
      "iteration done  1\n",
      "iteration done  2\n",
      "iteration done  3\n",
      "iteration done  4\n",
      "iteration done  5\n",
      "iteration done  6\n",
      "iteration done  7\n",
      "iteration done  8\n",
      "iteration done  9\n"
     ]
    }
   ],
   "source": [
    "\n",
    "i =0\n",
    "lgb_predictions = []\n",
    "all_predictions = []\n",
    "for fold, (train_index, val_index) in enumerate(skf.split(X_TRAIN_COPY, Y_TRAIN)):\n",
    "    X_train, X_val = X_TRAIN_COPY.iloc[train_index], X_TRAIN_COPY.iloc[val_index]\n",
    "    y_train, y_val = Y_TRAIN.iloc[train_index], Y_TRAIN.iloc[val_index]\n",
    " \n",
    "    lgb = LGBMClassifier(**lgb_params)\n",
    "    lgb.fit(X_train, y_train, categorical_feature= categorical)\n",
    "    fold_predictions = lgb.predict_proba(X_val)[:,1]\n",
    "    all_predictions.extend(fold_predictions)\n",
    "    lgb_predictions.append(lgb.predict_proba(X_TEST_COPY)[:,1]) \n",
    "    \n",
    "    print(\"iteration done \", i) \n",
    "    i = i +1         # Store predictions for the validation fold\n",
    "    \n",
    "training_dataframe['lgb1'] = all_predictions"
   ]
  },
  {
   "cell_type": "code",
   "execution_count": 19,
   "id": "0769e729",
   "metadata": {
    "execution": {
     "iopub.execute_input": "2024-10-31T15:30:00.059402Z",
     "iopub.status.busy": "2024-10-31T15:30:00.058948Z",
     "iopub.status.idle": "2024-10-31T15:30:00.072541Z",
     "shell.execute_reply": "2024-10-31T15:30:00.071351Z"
    },
    "papermill": {
     "duration": 0.0268,
     "end_time": "2024-10-31T15:30:00.074725",
     "exception": false,
     "start_time": "2024-10-31T15:30:00.047925",
     "status": "completed"
    },
    "tags": []
   },
   "outputs": [
    {
     "name": "stdout",
     "output_type": "stream",
     "text": [
      "<class 'pandas.core.frame.DataFrame'>\n",
      "Index: 91226 entries, 0 to 32580\n",
      "Data columns (total 11 columns):\n",
      " #   Column                      Non-Null Count  Dtype   \n",
      "---  ------                      --------------  -----   \n",
      " 0   person_age                  91226 non-null  int64   \n",
      " 1   person_income               91226 non-null  int64   \n",
      " 2   person_home_ownership       91226 non-null  category\n",
      " 3   person_emp_length           91226 non-null  float64 \n",
      " 4   loan_intent                 91226 non-null  category\n",
      " 5   loan_grade                  91226 non-null  category\n",
      " 6   loan_amnt                   91226 non-null  int64   \n",
      " 7   loan_int_rate               91226 non-null  float64 \n",
      " 8   loan_percent_income         91226 non-null  float64 \n",
      " 9   cb_person_default_on_file   91226 non-null  category\n",
      " 10  cb_person_cred_hist_length  91226 non-null  int64   \n",
      "dtypes: category(4), float64(3), int64(4)\n",
      "memory usage: 5.9 MB\n"
     ]
    }
   ],
   "source": [
    "X_TRAIN_COPY2.info()"
   ]
  },
  {
   "cell_type": "code",
   "execution_count": 20,
   "id": "c4979976",
   "metadata": {
    "execution": {
     "iopub.execute_input": "2024-10-31T15:30:00.095331Z",
     "iopub.status.busy": "2024-10-31T15:30:00.094909Z",
     "iopub.status.idle": "2024-10-31T16:19:19.123422Z",
     "shell.execute_reply": "2024-10-31T16:19:19.122329Z"
    },
    "papermill": {
     "duration": 2959.050436,
     "end_time": "2024-10-31T16:19:19.134528",
     "exception": false,
     "start_time": "2024-10-31T15:30:00.084092",
     "status": "completed"
    },
    "tags": []
   },
   "outputs": [
    {
     "name": "stdout",
     "output_type": "stream",
     "text": [
      "iteration done  0\n",
      "iteration done  1\n",
      "iteration done  2\n",
      "iteration done  3\n",
      "iteration done  4\n",
      "iteration done  5\n",
      "iteration done  6\n",
      "iteration done  7\n",
      "iteration done  8\n",
      "iteration done  9\n"
     ]
    }
   ],
   "source": [
    "from sklearn.ensemble import HistGradientBoostingClassifier, GradientBoostingClassifier\n",
    "i =0\n",
    "gb_predictions = []\n",
    "all_predictions = []\n",
    "for fold, (train_index, val_index) in enumerate(skf.split(X_TRAIN_COPY, Y_TRAIN)):\n",
    "    X_train, X_val = X_TRAIN_COPY.iloc[train_index], X_TRAIN_COPY.iloc[val_index]\n",
    "    y_train, y_val = Y_TRAIN.iloc[train_index], Y_TRAIN.iloc[val_index]\n",
    " \n",
    "    gb =  GradientBoostingClassifier(**gb_best_params)\n",
    "    gb.fit(X_train, y_train)\n",
    "    gb_predictions.append(gb.predict_proba(X_TEST_COPY)[:,1]) \n",
    "    fold_predictions = gb.predict_proba(X_val)[:,1]\n",
    "    all_predictions.extend(fold_predictions)\n",
    "    print(\"iteration done \", i) \n",
    "    i = i +1         # Store predictions for the validation fold\n",
    "training_dataframe['gb'] = all_predictions"
   ]
  },
  {
   "cell_type": "code",
   "execution_count": 21,
   "id": "1df047a1",
   "metadata": {
    "execution": {
     "iopub.execute_input": "2024-10-31T16:19:19.156012Z",
     "iopub.status.busy": "2024-10-31T16:19:19.155607Z",
     "iopub.status.idle": "2024-10-31T16:20:55.824067Z",
     "shell.execute_reply": "2024-10-31T16:20:55.822968Z"
    },
    "papermill": {
     "duration": 96.691588,
     "end_time": "2024-10-31T16:20:55.835874",
     "exception": false,
     "start_time": "2024-10-31T16:19:19.144286",
     "status": "completed"
    },
    "tags": []
   },
   "outputs": [
    {
     "name": "stdout",
     "output_type": "stream",
     "text": [
      "iteration done  0\n",
      "iteration done  1\n",
      "iteration done  2\n",
      "iteration done  3\n",
      "iteration done  4\n",
      "iteration done  5\n",
      "iteration done  6\n",
      "iteration done  7\n",
      "iteration done  8\n",
      "iteration done  9\n"
     ]
    }
   ],
   "source": [
    "from sklearn.ensemble import HistGradientBoostingClassifier\n",
    "i =0\n",
    "hgb_predictions = []\n",
    "all_predictions = []\n",
    "for fold, (train_index, val_index) in enumerate(skf.split(X_TRAIN_COPY, Y_TRAIN)):\n",
    "    X_train, X_val = X_TRAIN_COPY.iloc[train_index], X_TRAIN_COPY.iloc[val_index]\n",
    "    y_train, y_val = Y_TRAIN.iloc[train_index], Y_TRAIN.iloc[val_index]\n",
    " \n",
    "    hgb =  HistGradientBoostingClassifier(**hgb_params)\n",
    "    hgb.fit(X_train, y_train)\n",
    "    hgb_predictions.append(hgb.predict_proba(X_TEST_COPY)[:,1]) \n",
    "    fold_predictions = hgb.predict_proba(X_val)[:,1]\n",
    "    all_predictions.extend(fold_predictions)\n",
    "    print(\"iteration done \", i) \n",
    "    i = i +1         # Store predictions for the validation fold\n",
    "training_dataframe['hgb'] = all_predictions"
   ]
  },
  {
   "cell_type": "code",
   "execution_count": 22,
   "id": "c1bdde0a",
   "metadata": {
    "execution": {
     "iopub.execute_input": "2024-10-31T16:20:55.858443Z",
     "iopub.status.busy": "2024-10-31T16:20:55.857677Z",
     "iopub.status.idle": "2024-10-31T16:53:24.008117Z",
     "shell.execute_reply": "2024-10-31T16:53:24.007029Z"
    },
    "papermill": {
     "duration": 1948.174721,
     "end_time": "2024-10-31T16:53:24.020894",
     "exception": false,
     "start_time": "2024-10-31T16:20:55.846173",
     "status": "completed"
    },
    "tags": []
   },
   "outputs": [
    {
     "name": "stdout",
     "output_type": "stream",
     "text": [
      "iteration done  0\n",
      "iteration done  1\n",
      "iteration done  2\n",
      "iteration done  3\n",
      "iteration done  4\n",
      "iteration done  5\n",
      "iteration done  6\n",
      "iteration done  7\n",
      "iteration done  8\n",
      "iteration done  9\n"
     ]
    }
   ],
   "source": [
    "from lightgbm import LGBMClassifier\n",
    "i =0\n",
    "lgb_dart_predictions = []\n",
    "all_predictions = []\n",
    "for fold, (train_index, val_index) in enumerate(skf.split(X_TRAIN_COPY, Y_TRAIN)):\n",
    "    X_train, X_val = X_TRAIN_COPY.iloc[train_index], X_TRAIN_COPY.iloc[val_index]\n",
    "    y_train, y_val = Y_TRAIN.iloc[train_index], Y_TRAIN.iloc[val_index]\n",
    " \n",
    "    lgb_dart = LGBMClassifier(**lgb_dart_params)\n",
    "    lgb_dart.fit(X_train, y_train, categorical_feature= categorical)\n",
    "    lgb_dart_predictions.append(lgb_dart.predict_proba(X_TEST_COPY)[:,1]) \n",
    "    fold_predictions = lgb_dart.predict_proba(X_val)[:,1]\n",
    "    all_predictions.extend(fold_predictions)\n",
    "    print(\"iteration done \", i) \n",
    "    i = i +1         # Store predictions for the validation fold\n",
    "training_dataframe['lgb2'] = all_predictions"
   ]
  },
  {
   "cell_type": "code",
   "execution_count": 23,
   "id": "36da9cb9",
   "metadata": {
    "execution": {
     "iopub.execute_input": "2024-10-31T16:53:24.044955Z",
     "iopub.status.busy": "2024-10-31T16:53:24.044199Z",
     "iopub.status.idle": "2024-10-31T16:58:18.129137Z",
     "shell.execute_reply": "2024-10-31T16:58:18.128043Z"
    },
    "papermill": {
     "duration": 294.099434,
     "end_time": "2024-10-31T16:58:18.131469",
     "exception": false,
     "start_time": "2024-10-31T16:53:24.032035",
     "status": "completed"
    },
    "tags": []
   },
   "outputs": [
    {
     "name": "stdout",
     "output_type": "stream",
     "text": [
      "iteration done  0\n",
      "iteration done  1\n",
      "iteration done  2\n",
      "iteration done  3\n",
      "iteration done  4\n",
      "iteration done  5\n",
      "iteration done  6\n",
      "iteration done  7\n",
      "iteration done  8\n",
      "iteration done  9\n"
     ]
    }
   ],
   "source": [
    "from xgboost import XGBClassifier\n",
    "i =0\n",
    "xgb_predictions = []\n",
    "all_predictions = []\n",
    "for fold, (train_index, val_index) in enumerate(skf.split(X_TRAIN_COPY, Y_TRAIN)):\n",
    "    X_train, X_val = X_TRAIN_COPY.iloc[train_index], X_TRAIN_COPY.iloc[val_index]\n",
    "    y_train, y_val = Y_TRAIN.iloc[train_index], Y_TRAIN.iloc[val_index]\n",
    " \n",
    "    xgb = XGBClassifier(**xgb_params1)\n",
    "    xgb.fit(X_train, y_train)\n",
    "    xgb_predictions.append(xgb.predict_proba(X_TEST_COPY)[:,1]) \n",
    "    fold_predictions = xgb.predict_proba(X_val)[:,1]\n",
    "    all_predictions.extend(fold_predictions)\n",
    "    print(\"iteration done \", i) \n",
    "    i = i +1         # Store predictions for the validation fold\n",
    "training_dataframe['xgb'] = all_predictions"
   ]
  },
  {
   "cell_type": "code",
   "execution_count": 24,
   "id": "7adb5ca6",
   "metadata": {
    "execution": {
     "iopub.execute_input": "2024-10-31T16:58:18.157030Z",
     "iopub.status.busy": "2024-10-31T16:58:18.156228Z",
     "iopub.status.idle": "2024-10-31T17:03:19.084835Z",
     "shell.execute_reply": "2024-10-31T17:03:19.083737Z"
    },
    "papermill": {
     "duration": 300.943856,
     "end_time": "2024-10-31T17:03:19.087160",
     "exception": false,
     "start_time": "2024-10-31T16:58:18.143304",
     "status": "completed"
    },
    "tags": []
   },
   "outputs": [
    {
     "name": "stdout",
     "output_type": "stream",
     "text": [
      "iteration done  0\n",
      "iteration done  1\n",
      "iteration done  2\n",
      "iteration done  3\n",
      "iteration done  4\n",
      "iteration done  5\n",
      "iteration done  6\n",
      "iteration done  7\n",
      "iteration done  8\n",
      "iteration done  9\n"
     ]
    }
   ],
   "source": [
    "from lightgbm import LGBMClassifier\n",
    "i =0\n",
    "lgb_goss_predictions = []\n",
    "all_predictions = []\n",
    "for fold, (train_index, val_index) in enumerate(skf.split(X_TRAIN_COPY, Y_TRAIN)):\n",
    "    X_train, X_val = X_TRAIN_COPY.iloc[train_index], X_TRAIN_COPY.iloc[val_index]\n",
    "    y_train, y_val = Y_TRAIN.iloc[train_index], Y_TRAIN.iloc[val_index]\n",
    " \n",
    "    lgb_goss = LGBMClassifier(**lgb_goss_params)\n",
    "    lgb_goss.fit(X_train, y_train, categorical_feature= X_train.columns.to_list())\n",
    "    \n",
    "    lgb_goss_predictions.append(lgb_goss.predict_proba(X_TEST_COPY)[:,1]) \n",
    "    fold_predictions = lgb_goss.predict_proba(X_val)[:,1]\n",
    "    all_predictions.extend(fold_predictions)\n",
    "    print(\"iteration done \", i) \n",
    "    i = i +1         # Store predictions for the validation fold\n",
    "    \n",
    "training_dataframe['lgb3'] = all_predictions"
   ]
  },
  {
   "cell_type": "code",
   "execution_count": 25,
   "id": "b1e53bd0",
   "metadata": {
    "execution": {
     "iopub.execute_input": "2024-10-31T17:03:19.113829Z",
     "iopub.status.busy": "2024-10-31T17:03:19.113032Z",
     "iopub.status.idle": "2024-10-31T18:35:28.869341Z",
     "shell.execute_reply": "2024-10-31T18:35:28.868404Z"
    },
    "papermill": {
     "duration": 5529.772217,
     "end_time": "2024-10-31T18:35:28.871751",
     "exception": false,
     "start_time": "2024-10-31T17:03:19.099534",
     "status": "completed"
    },
    "tags": []
   },
   "outputs": [
    {
     "name": "stdout",
     "output_type": "stream",
     "text": [
      "iteration done  0\n",
      "iteration done  1\n",
      "iteration done  2\n",
      "iteration done  3\n",
      "iteration done  4\n",
      "iteration done  5\n",
      "iteration done  6\n",
      "iteration done  7\n",
      "iteration done  8\n",
      "iteration done  9\n"
     ]
    }
   ],
   "source": [
    "from sklearn.model_selection import StratifiedKFold\n",
    "from catboost import CatBoostClassifier\n",
    "from xgboost import XGBClassifier\n",
    "from lightgbm import LGBMClassifier\n",
    "\n",
    "cat2_predictions = [] # Initialize an array to store predictions\n",
    "i = 0 \n",
    "all_predictions = []\n",
    "for fold, (train_index, val_index) in enumerate(skf.split(X_TRAIN, Y_TRAIN)):\n",
    "    X_train, X_val = X_TRAIN.iloc[train_index], X_TRAIN.iloc[val_index]\n",
    "    y_train, y_val = Y_TRAIN.iloc[train_index], Y_TRAIN.iloc[val_index]\n",
    " \n",
    "    model =  CatBoostClassifier( **cb_params_2 , cat_features=X_TRAIN.columns.to_list()) \n",
    "     \n",
    "    model.fit(X_train, y_train)\n",
    "    fold_predictions = model.predict_proba(X_val)[:,1]\n",
    "    all_predictions.extend(fold_predictions)\n",
    "    print(\"iteration done \", i)\n",
    "    cat2_predictions.append(model.predict_proba(X_TEST)[:,1]) \n",
    "    i = i +1         # Store predictions for the validation fold\n",
    "    \n",
    "training_dataframe['cat2'] = all_predictions"
   ]
  },
  {
   "cell_type": "code",
   "execution_count": 26,
   "id": "aa936d05",
   "metadata": {
    "execution": {
     "iopub.execute_input": "2024-10-31T18:35:28.899402Z",
     "iopub.status.busy": "2024-10-31T18:35:28.898997Z",
     "iopub.status.idle": "2024-10-31T19:49:37.659850Z",
     "shell.execute_reply": "2024-10-31T19:49:37.658906Z"
    },
    "papermill": {
     "duration": 4448.777443,
     "end_time": "2024-10-31T19:49:37.662244",
     "exception": false,
     "start_time": "2024-10-31T18:35:28.884801",
     "status": "completed"
    },
    "tags": []
   },
   "outputs": [
    {
     "name": "stdout",
     "output_type": "stream",
     "text": [
      "iteration done  0\n",
      "iteration done  1\n",
      "iteration done  2\n",
      "iteration done  3\n",
      "iteration done  4\n",
      "iteration done  5\n",
      "iteration done  6\n",
      "iteration done  7\n",
      "iteration done  8\n",
      "iteration done  9\n"
     ]
    }
   ],
   "source": [
    "from sklearn.model_selection import StratifiedKFold\n",
    "from catboost import CatBoostClassifier\n",
    "from xgboost import XGBClassifier\n",
    "from lightgbm import LGBMClassifier\n",
    "all_predictions = []\n",
    "cat3_predictions = [] # Initialize an array to store predictions\n",
    "i = 0 \n",
    "for fold, (train_index, val_index) in enumerate(skf.split(X_TRAIN, Y_TRAIN)):\n",
    "    X_train, X_val = X_TRAIN.iloc[train_index], X_TRAIN.iloc[val_index]\n",
    "    y_train, y_val = Y_TRAIN.iloc[train_index], Y_TRAIN.iloc[val_index]\n",
    " \n",
    "    model =  CatBoostClassifier( **cb_params_4 , cat_features=X_TRAIN.columns.to_list()) \n",
    "     \n",
    "    model.fit(X_train, y_train)\n",
    "    \n",
    "    fold_predictions = model.predict_proba(X_val)[:,1]\n",
    "    all_predictions.extend(fold_predictions)\n",
    "    print(\"iteration done \", i)\n",
    "    cat3_predictions.append(model.predict_proba(X_TEST)[:,1]) \n",
    "    i = i +1         # Store predictions for the validation fold\n",
    "    \n",
    "training_dataframe['cat3'] = all_predictions"
   ]
  },
  {
   "cell_type": "code",
   "execution_count": 27,
   "id": "3df25a05",
   "metadata": {
    "execution": {
     "iopub.execute_input": "2024-10-31T19:49:37.691146Z",
     "iopub.status.busy": "2024-10-31T19:49:37.690457Z",
     "iopub.status.idle": "2024-10-31T19:49:38.097413Z",
     "shell.execute_reply": "2024-10-31T19:49:38.096268Z"
    },
    "papermill": {
     "duration": 0.424649,
     "end_time": "2024-10-31T19:49:38.100470",
     "exception": false,
     "start_time": "2024-10-31T19:49:37.675821",
     "status": "completed"
    },
    "tags": []
   },
   "outputs": [],
   "source": [
    "from sklearn.linear_model import LogisticRegression\n",
    "\n",
    "X = training_dataframe\n",
    "y = X.pop('loan_status')\n",
    "model = LogisticRegression()\n",
    "model.fit(X,y)\n",
    "\n",
    "all_probas = np.stack(predictions)\n",
    "avg_probas = np.mean(all_probas, axis=0)\n",
    "\n",
    "all_probas1 = np.stack(lgb_predictions)\n",
    "avg_probas1 = np.mean(all_probas1, axis=0)\n",
    "\n",
    "all_probas2 = np.stack(gb_predictions)\n",
    "avg_probas2 = np.mean(all_probas2, axis=0)\n",
    "\n",
    "all_probas3 = np.stack(hgb_predictions)\n",
    "avg_probas3 = np.mean(all_probas3, axis=0)\n",
    "\n",
    "all_probas4 = np.stack(lgb_dart_predictions)\n",
    "avg_probas4 = np.mean(all_probas4, axis=0)\n",
    "\n",
    "all_probas5 = np.stack(lgb_goss_predictions)\n",
    "avg_probas5 = np.mean(all_probas5, axis=0)\n",
    "\n",
    "all_probas6 = np.stack(xgb_predictions)\n",
    "avg_probas6 = np.mean(all_probas6, axis=0)\n",
    "\n",
    "all_probas7 = np.stack(cat2_predictions)\n",
    "avg_probas7 = np.mean(all_probas7, axis=0)\n",
    "\n",
    "all_probas8 = np.stack(cat3_predictions)\n",
    "avg_probas8 = np.mean(all_probas8, axis=0)\n",
    "\n",
    "final_df = pd.DataFrame()\n",
    "final_df['cat1'] = avg_probas\n",
    "final_df['lgb1'] = avg_probas1\n",
    "final_df['gb'] = avg_probas2\n",
    "final_df['hgb'] = avg_probas3\n",
    "final_df['lgb2'] = avg_probas4\n",
    "final_df['xgb'] = avg_probas6\n",
    "final_df['lgb3'] = avg_probas5\n",
    "final_df['cat2'] = avg_probas\n",
    "final_df['cat3'] = avg_probas\n",
    "\n",
    "total_probas = model.predict_proba(final_df)[:,1] "
   ]
  },
  {
   "cell_type": "code",
   "execution_count": null,
   "id": "9854c422",
   "metadata": {
    "execution": {
     "iopub.status.busy": "2024-10-21T13:38:38.905481Z",
     "iopub.status.idle": "2024-10-21T13:38:38.90584Z",
     "shell.execute_reply": "2024-10-21T13:38:38.90565Z",
     "shell.execute_reply.started": "2024-10-21T13:38:38.905634Z"
    },
    "papermill": {
     "duration": 0.022097,
     "end_time": "2024-10-31T19:49:38.145234",
     "exception": false,
     "start_time": "2024-10-31T19:49:38.123137",
     "status": "completed"
    },
    "tags": []
   },
   "outputs": [],
   "source": []
  },
  {
   "cell_type": "code",
   "execution_count": null,
   "id": "03959fc5",
   "metadata": {
    "papermill": {
     "duration": 0.022046,
     "end_time": "2024-10-31T19:49:38.189767",
     "exception": false,
     "start_time": "2024-10-31T19:49:38.167721",
     "status": "completed"
    },
    "tags": []
   },
   "outputs": [],
   "source": []
  },
  {
   "cell_type": "code",
   "execution_count": 28,
   "id": "34ff3c7b",
   "metadata": {
    "execution": {
     "iopub.execute_input": "2024-10-31T19:49:38.228825Z",
     "iopub.status.busy": "2024-10-31T19:49:38.228126Z",
     "iopub.status.idle": "2024-10-31T19:49:38.235594Z",
     "shell.execute_reply": "2024-10-31T19:49:38.234763Z"
    },
    "papermill": {
     "duration": 0.025591,
     "end_time": "2024-10-31T19:49:38.237608",
     "exception": false,
     "start_time": "2024-10-31T19:49:38.212017",
     "status": "completed"
    },
    "tags": []
   },
   "outputs": [],
   "source": [
    "probs = total_probas\n",
    "Result = pd.DataFrame()\n",
    "Result['id']=id\n",
    "if len(probs.shape) >1:\n",
    "    Result['loan_status'] = probs[:,1]\n",
    "else :\n",
    "    Result['loan_status'] = probs"
   ]
  },
  {
   "cell_type": "code",
   "execution_count": 29,
   "id": "0ec3ec17",
   "metadata": {
    "execution": {
     "iopub.execute_input": "2024-10-31T19:49:38.266494Z",
     "iopub.status.busy": "2024-10-31T19:49:38.265747Z",
     "iopub.status.idle": "2024-10-31T19:49:38.361681Z",
     "shell.execute_reply": "2024-10-31T19:49:38.360636Z"
    },
    "papermill": {
     "duration": 0.113015,
     "end_time": "2024-10-31T19:49:38.364131",
     "exception": false,
     "start_time": "2024-10-31T19:49:38.251116",
     "status": "completed"
    },
    "tags": []
   },
   "outputs": [],
   "source": [
    "Result.to_csv(\"submission.csv\",index=False)"
   ]
  },
  {
   "cell_type": "code",
   "execution_count": 30,
   "id": "c76a86a7",
   "metadata": {
    "execution": {
     "iopub.execute_input": "2024-10-31T19:49:38.393718Z",
     "iopub.status.busy": "2024-10-31T19:49:38.392628Z",
     "iopub.status.idle": "2024-10-31T19:49:38.400816Z",
     "shell.execute_reply": "2024-10-31T19:49:38.399654Z"
    },
    "papermill": {
     "duration": 0.024911,
     "end_time": "2024-10-31T19:49:38.402932",
     "exception": false,
     "start_time": "2024-10-31T19:49:38.378021",
     "status": "completed"
    },
    "tags": []
   },
   "outputs": [
    {
     "data": {
      "text/plain": [
       "'2.2.3'"
      ]
     },
     "execution_count": 30,
     "metadata": {},
     "output_type": "execute_result"
    }
   ],
   "source": [
    "pd.__version__"
   ]
  },
  {
   "cell_type": "code",
   "execution_count": 31,
   "id": "669d6e4b",
   "metadata": {
    "execution": {
     "iopub.execute_input": "2024-10-31T19:49:38.431996Z",
     "iopub.status.busy": "2024-10-31T19:49:38.431550Z",
     "iopub.status.idle": "2024-10-31T19:49:38.438970Z",
     "shell.execute_reply": "2024-10-31T19:49:38.438027Z"
    },
    "papermill": {
     "duration": 0.024408,
     "end_time": "2024-10-31T19:49:38.441120",
     "exception": false,
     "start_time": "2024-10-31T19:49:38.416712",
     "status": "completed"
    },
    "tags": []
   },
   "outputs": [
    {
     "data": {
      "text/plain": [
       "'2.0.3'"
      ]
     },
     "execution_count": 31,
     "metadata": {},
     "output_type": "execute_result"
    }
   ],
   "source": [
    "import xgboost as xgb\n",
    "\n",
    "xgb.__version__"
   ]
  },
  {
   "cell_type": "code",
   "execution_count": 32,
   "id": "c638652c",
   "metadata": {
    "execution": {
     "iopub.execute_input": "2024-10-31T19:49:38.470271Z",
     "iopub.status.busy": "2024-10-31T19:49:38.469514Z",
     "iopub.status.idle": "2024-10-31T19:49:38.474112Z",
     "shell.execute_reply": "2024-10-31T19:49:38.473114Z"
    },
    "papermill": {
     "duration": 0.021531,
     "end_time": "2024-10-31T19:49:38.476350",
     "exception": false,
     "start_time": "2024-10-31T19:49:38.454819",
     "status": "completed"
    },
    "tags": []
   },
   "outputs": [],
   "source": [
    "a, b = 3, 4"
   ]
  },
  {
   "cell_type": "code",
   "execution_count": 33,
   "id": "35eb49ec",
   "metadata": {
    "execution": {
     "iopub.execute_input": "2024-10-31T19:49:38.505990Z",
     "iopub.status.busy": "2024-10-31T19:49:38.505081Z",
     "iopub.status.idle": "2024-10-31T19:49:38.511225Z",
     "shell.execute_reply": "2024-10-31T19:49:38.510303Z"
    },
    "papermill": {
     "duration": 0.023043,
     "end_time": "2024-10-31T19:49:38.513206",
     "exception": false,
     "start_time": "2024-10-31T19:49:38.490163",
     "status": "completed"
    },
    "tags": []
   },
   "outputs": [
    {
     "data": {
      "text/plain": [
       "3"
      ]
     },
     "execution_count": 33,
     "metadata": {},
     "output_type": "execute_result"
    }
   ],
   "source": [
    "a"
   ]
  },
  {
   "cell_type": "code",
   "execution_count": null,
   "id": "5463618c",
   "metadata": {
    "papermill": {
     "duration": 0.013563,
     "end_time": "2024-10-31T19:49:38.540968",
     "exception": false,
     "start_time": "2024-10-31T19:49:38.527405",
     "status": "completed"
    },
    "tags": []
   },
   "outputs": [],
   "source": []
  }
 ],
 "metadata": {
  "kaggle": {
   "accelerator": "none",
   "dataSources": [
    {
     "databundleVersionId": 9709193,
     "sourceId": 84894,
     "sourceType": "competition"
    },
    {
     "datasetId": 4675026,
     "sourceId": 7949759,
     "sourceType": "datasetVersion"
    }
   ],
   "dockerImageVersionId": 30786,
   "isGpuEnabled": false,
   "isInternetEnabled": true,
   "language": "python",
   "sourceType": "notebook"
  },
  "kernelspec": {
   "display_name": "Python 3",
   "language": "python",
   "name": "python3"
  },
  "language_info": {
   "codemirror_mode": {
    "name": "ipython",
    "version": 3
   },
   "file_extension": ".py",
   "mimetype": "text/x-python",
   "name": "python",
   "nbconvert_exporter": "python",
   "pygments_lexer": "ipython3",
   "version": "3.10.14"
  },
  "papermill": {
   "default_parameters": {},
   "duration": 17124.330267,
   "end_time": "2024-10-31T19:49:39.375909",
   "environment_variables": {},
   "exception": null,
   "input_path": "__notebook__.ipynb",
   "output_path": "__notebook__.ipynb",
   "parameters": {},
   "start_time": "2024-10-31T15:04:15.045642",
   "version": "2.6.0"
  }
 },
 "nbformat": 4,
 "nbformat_minor": 5
}
