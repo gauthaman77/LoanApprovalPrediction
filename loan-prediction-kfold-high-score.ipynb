{
 "cells": [
  {
   "cell_type": "code",
   "execution_count": 1,
   "id": "5a3593a5",
   "metadata": {
    "execution": {
     "iopub.execute_input": "2024-10-26T10:08:58.362615Z",
     "iopub.status.busy": "2024-10-26T10:08:58.362155Z",
     "iopub.status.idle": "2024-10-26T10:08:58.368246Z",
     "shell.execute_reply": "2024-10-26T10:08:58.367080Z"
    },
    "papermill": {
     "duration": 0.025207,
     "end_time": "2024-10-26T10:08:58.370919",
     "exception": false,
     "start_time": "2024-10-26T10:08:58.345712",
     "status": "completed"
    },
    "tags": []
   },
   "outputs": [],
   "source": [
    "# !pip install -U lightautoml\n",
    "# !pip install pandas==1.4.3"
   ]
  },
  {
   "cell_type": "code",
   "execution_count": 2,
   "id": "398ffd6a",
   "metadata": {
    "_cell_guid": "b1076dfc-b9ad-4769-8c92-a6c4dae69d19",
    "_uuid": "8f2839f25d086af736a60e9eeb907d3b93b6e0e5",
    "execution": {
     "iopub.execute_input": "2024-10-26T10:08:58.400018Z",
     "iopub.status.busy": "2024-10-26T10:08:58.399561Z",
     "iopub.status.idle": "2024-10-26T10:08:59.395116Z",
     "shell.execute_reply": "2024-10-26T10:08:59.393744Z"
    },
    "papermill": {
     "duration": 1.013315,
     "end_time": "2024-10-26T10:08:59.397960",
     "exception": false,
     "start_time": "2024-10-26T10:08:58.384645",
     "status": "completed"
    },
    "tags": []
   },
   "outputs": [
    {
     "name": "stdout",
     "output_type": "stream",
     "text": [
      "/kaggle/input/loan-approval-prediction/credit_risk_dataset.csv\n",
      "/kaggle/input/playground-series-s4e10/sample_submission.csv\n",
      "/kaggle/input/playground-series-s4e10/train.csv\n",
      "/kaggle/input/playground-series-s4e10/test.csv\n"
     ]
    }
   ],
   "source": [
    "# This Python 3 environment comes with many helpful analytics libraries installed\n",
    "# It is defined by the kaggle/python Docker image: https://github.com/kaggle/docker-python\n",
    "# For example, here's several helpful packages to load\n",
    "\n",
    "import numpy as np # linear algebra\n",
    "import pandas as pd # data processing, CSV file I/O (e.g. pd.read_csv)\n",
    "\n",
    "# Input data files are available in the read-only \"../input/\" directory\n",
    "# For example, running this (by clicking run or pressing Shift+Enter) will list all files under the input directory\n",
    "\n",
    "import os\n",
    "for dirname, _, filenames in os.walk('/kaggle/input'):\n",
    "    for filename in filenames:\n",
    "        print(os.path.join(dirname, filename))\n",
    "\n",
    "# You can write up to 20GB to the current directory (/kaggle/working/) that gets preserved as output when you create a version using \"Save & Run All\" \n",
    "# You can also write temporary files to /kaggle/temp/, but they won't be saved outside of the current session"
   ]
  },
  {
   "cell_type": "code",
   "execution_count": 3,
   "id": "6327594f",
   "metadata": {
    "execution": {
     "iopub.execute_input": "2024-10-26T10:08:59.428429Z",
     "iopub.status.busy": "2024-10-26T10:08:59.427817Z",
     "iopub.status.idle": "2024-10-26T10:08:59.835883Z",
     "shell.execute_reply": "2024-10-26T10:08:59.834645Z"
    },
    "papermill": {
     "duration": 0.425991,
     "end_time": "2024-10-26T10:08:59.838830",
     "exception": false,
     "start_time": "2024-10-26T10:08:59.412839",
     "status": "completed"
    },
    "tags": []
   },
   "outputs": [],
   "source": [
    "X_TRAIN = pd.read_csv('/kaggle/input/playground-series-s4e10/train.csv')\n",
    "X_TEST = pd.read_csv('/kaggle/input/playground-series-s4e10/test.csv')\n",
    "X_ORIG = pd.read_csv('/kaggle/input/loan-approval-prediction/credit_risk_dataset.csv')"
   ]
  },
  {
   "cell_type": "code",
   "execution_count": 4,
   "id": "420a2bb0",
   "metadata": {
    "execution": {
     "iopub.execute_input": "2024-10-26T10:08:59.867663Z",
     "iopub.status.busy": "2024-10-26T10:08:59.867175Z",
     "iopub.status.idle": "2024-10-26T10:08:59.888915Z",
     "shell.execute_reply": "2024-10-26T10:08:59.887733Z"
    },
    "papermill": {
     "duration": 0.039491,
     "end_time": "2024-10-26T10:08:59.891897",
     "exception": false,
     "start_time": "2024-10-26T10:08:59.852406",
     "status": "completed"
    },
    "tags": []
   },
   "outputs": [],
   "source": [
    "X_TRAIN = pd.concat([X_TRAIN, X_ORIG])"
   ]
  },
  {
   "cell_type": "code",
   "execution_count": 5,
   "id": "78b27b90",
   "metadata": {
    "execution": {
     "iopub.execute_input": "2024-10-26T10:08:59.921891Z",
     "iopub.status.busy": "2024-10-26T10:08:59.921472Z",
     "iopub.status.idle": "2024-10-26T10:08:59.938735Z",
     "shell.execute_reply": "2024-10-26T10:08:59.937046Z"
    },
    "papermill": {
     "duration": 0.035873,
     "end_time": "2024-10-26T10:08:59.942033",
     "exception": false,
     "start_time": "2024-10-26T10:08:59.906160",
     "status": "completed"
    },
    "tags": []
   },
   "outputs": [],
   "source": [
    "X_TRAIN['person_emp_length'] = X_TRAIN['person_emp_length'].fillna(X_TRAIN['person_emp_length'].median())\n",
    "X_TRAIN['loan_int_rate'] = X_TRAIN['loan_int_rate'].fillna(X_TRAIN['loan_int_rate'].median())"
   ]
  },
  {
   "cell_type": "code",
   "execution_count": 6,
   "id": "1b964786",
   "metadata": {
    "execution": {
     "iopub.execute_input": "2024-10-26T10:08:59.972314Z",
     "iopub.status.busy": "2024-10-26T10:08:59.971843Z",
     "iopub.status.idle": "2024-10-26T10:09:00.018421Z",
     "shell.execute_reply": "2024-10-26T10:09:00.017128Z"
    },
    "papermill": {
     "duration": 0.064929,
     "end_time": "2024-10-26T10:09:00.021326",
     "exception": false,
     "start_time": "2024-10-26T10:08:59.956397",
     "status": "completed"
    },
    "tags": []
   },
   "outputs": [
    {
     "name": "stdout",
     "output_type": "stream",
     "text": [
      "<class 'pandas.core.frame.DataFrame'>\n",
      "RangeIndex: 39098 entries, 0 to 39097\n",
      "Data columns (total 12 columns):\n",
      " #   Column                      Non-Null Count  Dtype  \n",
      "---  ------                      --------------  -----  \n",
      " 0   id                          39098 non-null  int64  \n",
      " 1   person_age                  39098 non-null  int64  \n",
      " 2   person_income               39098 non-null  int64  \n",
      " 3   person_home_ownership       39098 non-null  object \n",
      " 4   person_emp_length           39098 non-null  float64\n",
      " 5   loan_intent                 39098 non-null  object \n",
      " 6   loan_grade                  39098 non-null  object \n",
      " 7   loan_amnt                   39098 non-null  int64  \n",
      " 8   loan_int_rate               39098 non-null  float64\n",
      " 9   loan_percent_income         39098 non-null  float64\n",
      " 10  cb_person_default_on_file   39098 non-null  object \n",
      " 11  cb_person_cred_hist_length  39098 non-null  int64  \n",
      "dtypes: float64(3), int64(5), object(4)\n",
      "memory usage: 3.6+ MB\n"
     ]
    }
   ],
   "source": [
    "X_TEST.info()\n"
   ]
  },
  {
   "cell_type": "code",
   "execution_count": 7,
   "id": "1b394ba8",
   "metadata": {
    "execution": {
     "iopub.execute_input": "2024-10-26T10:09:00.051427Z",
     "iopub.status.busy": "2024-10-26T10:09:00.050301Z",
     "iopub.status.idle": "2024-10-26T10:09:00.057794Z",
     "shell.execute_reply": "2024-10-26T10:09:00.056673Z"
    },
    "papermill": {
     "duration": 0.025121,
     "end_time": "2024-10-26T10:09:00.060273",
     "exception": false,
     "start_time": "2024-10-26T10:09:00.035152",
     "status": "completed"
    },
    "tags": []
   },
   "outputs": [],
   "source": [
    "X_TRAIN.pop('id')\n",
    "id = X_TEST.pop('id')\n",
    "Y_TRAIN = X_TRAIN.pop('loan_status')"
   ]
  },
  {
   "cell_type": "code",
   "execution_count": 8,
   "id": "9e10a6f4",
   "metadata": {
    "execution": {
     "iopub.execute_input": "2024-10-26T10:09:00.089772Z",
     "iopub.status.busy": "2024-10-26T10:09:00.089333Z",
     "iopub.status.idle": "2024-10-26T10:09:00.125607Z",
     "shell.execute_reply": "2024-10-26T10:09:00.124541Z"
    },
    "papermill": {
     "duration": 0.054398,
     "end_time": "2024-10-26T10:09:00.128331",
     "exception": false,
     "start_time": "2024-10-26T10:09:00.073933",
     "status": "completed"
    },
    "tags": []
   },
   "outputs": [],
   "source": [
    "numerical = X_TRAIN.select_dtypes(['int64', 'float64']).columns.to_list()\n",
    "categorical = X_TRAIN.select_dtypes(['object']).columns.to_list()"
   ]
  },
  {
   "cell_type": "code",
   "execution_count": 9,
   "id": "316575ac",
   "metadata": {
    "execution": {
     "iopub.execute_input": "2024-10-26T10:09:00.157608Z",
     "iopub.status.busy": "2024-10-26T10:09:00.157106Z",
     "iopub.status.idle": "2024-10-26T10:09:00.163463Z",
     "shell.execute_reply": "2024-10-26T10:09:00.162265Z"
    },
    "papermill": {
     "duration": 0.02473,
     "end_time": "2024-10-26T10:09:00.166815",
     "exception": false,
     "start_time": "2024-10-26T10:09:00.142085",
     "status": "completed"
    },
    "tags": []
   },
   "outputs": [
    {
     "name": "stdout",
     "output_type": "stream",
     "text": [
      "numerical  ['person_age', 'person_income', 'person_emp_length', 'loan_amnt', 'loan_int_rate', 'loan_percent_income', 'cb_person_cred_hist_length']\n",
      "categorical ['person_home_ownership', 'loan_intent', 'loan_grade', 'cb_person_default_on_file']\n"
     ]
    }
   ],
   "source": [
    "print('numerical ', numerical)\n",
    "print('categorical', categorical)"
   ]
  },
  {
   "cell_type": "code",
   "execution_count": 10,
   "id": "9245befe",
   "metadata": {
    "execution": {
     "iopub.execute_input": "2024-10-26T10:09:00.197570Z",
     "iopub.status.busy": "2024-10-26T10:09:00.197112Z",
     "iopub.status.idle": "2024-10-26T10:09:00.333258Z",
     "shell.execute_reply": "2024-10-26T10:09:00.331955Z"
    },
    "papermill": {
     "duration": 0.154894,
     "end_time": "2024-10-26T10:09:00.336423",
     "exception": false,
     "start_time": "2024-10-26T10:09:00.181529",
     "status": "completed"
    },
    "tags": []
   },
   "outputs": [],
   "source": [
    "X_TRAIN_COPY = X_TRAIN.copy()\n",
    "X_TEST_COPY = X_TEST.copy()\n",
    "\n",
    "X_TRAIN_COPY2 = X_TRAIN.copy()\n",
    "X_TEST_COPY2 = X_TEST.copy()\n",
    "categorical = X_TRAIN.select_dtypes(['object']).columns.to_list()\n",
    "for col in categorical:\n",
    "    X_TRAIN_COPY2[col] = X_TRAIN_COPY2[col].astype('category')\n",
    "    X_TEST_COPY2[col] = X_TEST_COPY2[col].astype('category')"
   ]
  },
  {
   "cell_type": "code",
   "execution_count": 11,
   "id": "3a89928f",
   "metadata": {
    "execution": {
     "iopub.execute_input": "2024-10-26T10:09:00.366588Z",
     "iopub.status.busy": "2024-10-26T10:09:00.365276Z",
     "iopub.status.idle": "2024-10-26T10:09:00.383878Z",
     "shell.execute_reply": "2024-10-26T10:09:00.382340Z"
    },
    "papermill": {
     "duration": 0.036507,
     "end_time": "2024-10-26T10:09:00.386624",
     "exception": false,
     "start_time": "2024-10-26T10:09:00.350117",
     "status": "completed"
    },
    "tags": []
   },
   "outputs": [
    {
     "name": "stdout",
     "output_type": "stream",
     "text": [
      "<class 'pandas.core.frame.DataFrame'>\n",
      "Index: 91226 entries, 0 to 32580\n",
      "Data columns (total 11 columns):\n",
      " #   Column                      Non-Null Count  Dtype   \n",
      "---  ------                      --------------  -----   \n",
      " 0   person_age                  91226 non-null  int64   \n",
      " 1   person_income               91226 non-null  int64   \n",
      " 2   person_home_ownership       91226 non-null  category\n",
      " 3   person_emp_length           91226 non-null  float64 \n",
      " 4   loan_intent                 91226 non-null  category\n",
      " 5   loan_grade                  91226 non-null  category\n",
      " 6   loan_amnt                   91226 non-null  int64   \n",
      " 7   loan_int_rate               91226 non-null  float64 \n",
      " 8   loan_percent_income         91226 non-null  float64 \n",
      " 9   cb_person_default_on_file   91226 non-null  category\n",
      " 10  cb_person_cred_hist_length  91226 non-null  int64   \n",
      "dtypes: category(4), float64(3), int64(4)\n",
      "memory usage: 5.9 MB\n"
     ]
    }
   ],
   "source": [
    "X_TRAIN_COPY2.info()"
   ]
  },
  {
   "cell_type": "code",
   "execution_count": 12,
   "id": "af6fba84",
   "metadata": {
    "execution": {
     "iopub.execute_input": "2024-10-26T10:09:00.416773Z",
     "iopub.status.busy": "2024-10-26T10:09:00.415797Z",
     "iopub.status.idle": "2024-10-26T10:09:00.493191Z",
     "shell.execute_reply": "2024-10-26T10:09:00.491834Z"
    },
    "papermill": {
     "duration": 0.095586,
     "end_time": "2024-10-26T10:09:00.496295",
     "exception": false,
     "start_time": "2024-10-26T10:09:00.400709",
     "status": "completed"
    },
    "tags": []
   },
   "outputs": [],
   "source": [
    "def factorizeCategoricalColumns(data):\n",
    "    dataCopy = data.copy()\n",
    "    categorical = data.select_dtypes(['object']).columns.to_list()\n",
    "    for col in categorical:\n",
    "        dataCopy[col], _ = dataCopy[col].factorize(sort=True)\n",
    "    return dataCopy\n",
    "\n",
    "X_TRAIN_COPY = factorizeCategoricalColumns(X_TRAIN_COPY)\n",
    "X_TEST_COPY = factorizeCategoricalColumns(X_TEST_COPY)"
   ]
  },
  {
   "cell_type": "code",
   "execution_count": 13,
   "id": "ac7d75cf",
   "metadata": {
    "execution": {
     "iopub.execute_input": "2024-10-26T10:09:00.526184Z",
     "iopub.status.busy": "2024-10-26T10:09:00.525736Z",
     "iopub.status.idle": "2024-10-26T10:09:00.531343Z",
     "shell.execute_reply": "2024-10-26T10:09:00.530034Z"
    },
    "papermill": {
     "duration": 0.023523,
     "end_time": "2024-10-26T10:09:00.533863",
     "exception": false,
     "start_time": "2024-10-26T10:09:00.510340",
     "status": "completed"
    },
    "tags": []
   },
   "outputs": [],
   "source": [
    "# oe = OrdinalEncoder(handle_unknown='use_encoded_value', unknown_value=-1)\n",
    "# X_oe = pd.DataFrame(oe.fit_transform(X[cat_cols]), columns = cat_cols).fillna(0).astype(int)\n",
    "\n",
    "# test_oe = pd.DataFrame(oe.transform(test_data[cat_cols]), columns = cat_cols).fillna(0).astype(int)\n",
    "# X_oe_concated = pd.concat([X_oe, X[num_cols]], axis= 1)\n",
    "# test_oe_concated = pd.concat([test_oe, test_data[num_cols]], axis= 1)"
   ]
  },
  {
   "cell_type": "code",
   "execution_count": 14,
   "id": "dbdbf81a",
   "metadata": {
    "execution": {
     "iopub.execute_input": "2024-10-26T10:09:00.564526Z",
     "iopub.status.busy": "2024-10-26T10:09:00.563129Z",
     "iopub.status.idle": "2024-10-26T10:09:01.251201Z",
     "shell.execute_reply": "2024-10-26T10:09:01.249860Z"
    },
    "papermill": {
     "duration": 0.706818,
     "end_time": "2024-10-26T10:09:01.254462",
     "exception": false,
     "start_time": "2024-10-26T10:09:00.547644",
     "status": "completed"
    },
    "tags": []
   },
   "outputs": [],
   "source": [
    "for col in X_TRAIN.columns.to_list():\n",
    "    X_TRAIN[col] = X_TRAIN[col].astype('string')\n",
    "    X_TEST[col] = X_TEST[col].astype('string')"
   ]
  },
  {
   "cell_type": "code",
   "execution_count": 15,
   "id": "3d2c4993",
   "metadata": {
    "execution": {
     "iopub.execute_input": "2024-10-26T10:09:01.286450Z",
     "iopub.status.busy": "2024-10-26T10:09:01.285978Z",
     "iopub.status.idle": "2024-10-26T10:09:01.306192Z",
     "shell.execute_reply": "2024-10-26T10:09:01.305134Z"
    },
    "papermill": {
     "duration": 0.038442,
     "end_time": "2024-10-26T10:09:01.308807",
     "exception": false,
     "start_time": "2024-10-26T10:09:01.270365",
     "status": "completed"
    },
    "tags": []
   },
   "outputs": [],
   "source": [
    "#X_TRAIN.shape\n",
    "\n",
    "lgb_params= {\n",
    "    'objective': 'binary',\n",
    "    'metric': 'auc',\n",
    "    'max_depth': -1,\n",
    "    'verbosity': -1,\n",
    "    'n_estimators': 1500,\n",
    "    'max_bin': 1024,\n",
    "    'boosting_type': 'gbdt', #'dart'\n",
    "    'colsample_bytree': 0.5673775386473462,        \n",
    "    'eta': 0.05446876730023387,\n",
    "    'reg_lambda': 10.787843597294561,\n",
    "    'min_child_samples': 69,\n",
    "    'random_state': 42,\n",
    "    #'early_stopping_rounds': 150,\n",
    "    'verbose':1,\n",
    "    #'categorical_feature': cat_indices,\n",
    "}\n",
    "\n",
    "xgb_params= {\n",
    "    'objective': 'binary:logistic',\n",
    "    'eval_metric': 'auc',\n",
    "    'max_depth': 7,\n",
    "    'eta': 0.07964177396162775,\n",
    "    'reg_lambda': 38.499443612904315,\n",
    "    'subsample': 0.8778759317150353,\n",
    "    'colsample_bytree': 0.6504220261795185,\n",
    "    'random_state': 42,\n",
    "    'verbosity':0,\n",
    "    'enable_categorical': True,\n",
    "    'min_child_weight': 5,\n",
    "    #'tree_method': 'hist',\n",
    "}\n",
    "xgb_params1 = {\n",
    "    'eval_metric': 'auc',\n",
    "    'n_estimators': 5000,\n",
    "    'learning_rate': 0.10999995057648126,\n",
    "    'max_depth': 8,\n",
    "    'subsample': 0.9999999999999999,\n",
    "    'colsample_bytree': 0.49681888251576845,\n",
    "    'reg_alpha': 8.919028743833996e-06,\n",
    "    'reg_lambda': 9.999999999999998,\n",
    "    'gamma': 0.09787383664032377,\n",
    "    'min_child_weight': 1.0,\n",
    "    'max_bin': 262143,\n",
    "#     'tree_method': 'hist',\n",
    "#     'device': 'cuda',\n",
    "    'enable_categorical': True,\n",
    "    #'early_stopping_rounds': 100,\n",
    "}\n",
    "\n",
    "cb_params_3 = {'task_type': \"CPU\",\n",
    "'iterations': 891,\n",
    "'depth': 7,\n",
    "'learning_rate': 0.0448563477253477,\n",
    "'l2_leaf_reg': 8.309884320742215,\n",
    "'border_count': 161,\n",
    "'random_strength': 5.297381835241815,\n",
    "'bagging_temperature': 0.10498408144882451,\n",
    "'scale_pos_weight': 2.3753101495123747,\n",
    "'verbose': False}\n",
    "\n",
    "gb_best_params = {'random_state': 42,\n",
    "                  'learning_rate': 0.08556786152814144, \n",
    "                  'max_depth': 11, 'n_estimators': 1130, \n",
    "                  'max_leaf_nodes': 90, \n",
    "                  'min_samples_leaf': 0.0025834075077401774, \n",
    "                  'min_samples_split': 0.11732169002596993, \n",
    "                  'min_weight_fraction_leaf': 0.0014666658781746856, \n",
    "                  'subsample': 0.9514006946730825}\n",
    "\n",
    "hgb_params = {\n",
    "    'categorical_features': categorical,\n",
    "    'l2_regularization': 3.2797348813056515,\n",
    "    'learning_rate': 0.04290001508632896,\n",
    "    'max_depth': 292,\n",
    "    #'max_features': 0.9605841946578942,\n",
    "    'max_iter': 2978,\n",
    "    'max_leaf_nodes': 38,\n",
    "    'min_samples_leaf': 254,\n",
    "    'random_state': 42\n",
    "}\n",
    "\n",
    "lgb_dart_params = {\n",
    "    'boosting_type': 'dart',\n",
    "    'colsample_bytree': 0.46939540409784575,\n",
    "    'learning_rate': 0.0877911638744417,\n",
    "    'min_child_samples': 61,\n",
    "    'min_child_weight': 0.7580677713575383,\n",
    "    'n_estimators': 877,\n",
    "    'n_jobs': -1,\n",
    "    'num_leaves': 35,\n",
    "    'random_state': 1859,\n",
    "    'reg_alpha': 2.5638237507752457,\n",
    "    'reg_lambda': 1.8975230326974724,\n",
    "    'scale_pos_weight': 2.7023753131827455,\n",
    "    'subsample': 0.8009452917870442,\n",
    "    'verbose': -1\n",
    "}\n",
    "\n",
    "lgb_goss_params = {\n",
    "    'boosting_type': 'goss',\n",
    "    'colsample_bytree': 0.24954643970263424,\n",
    "    'learning_rate': 0.07188725215845243,\n",
    "    'max_bins': 5626,\n",
    "    'min_child_samples': 22,\n",
    "    'min_child_weight': 0.7179252102190649,\n",
    "    'n_estimators': 1319,\n",
    "    'n_jobs': -1,\n",
    "    'num_leaves': 21,\n",
    "    'random_state': 42,\n",
    "    'reg_alpha': 6.047743594793198,\n",
    "    'reg_lambda': 5.277073776908381,\n",
    "    'scale_pos_weight': 5.885539605359165,\n",
    "    'subsample': 0.16046944461130142,\n",
    "    'verbose': -1\n",
    "}\n",
    "\n",
    "cb_params_4 ={'objective': 'Logloss',\n",
    "                                   'eval_metric': \"AUC\",\n",
    "                                   'verbose': 0,\n",
    "                                   'random_state': 42,\n",
    "                                   'n_estimators': 5000,\n",
    "                                   'scale_pos_weight': 2.3753101495123747,\n",
    "                                   'learning_rate': 0.08746007467982597,\n",
    "                                   'l2_leaf_reg': 3.50212953568363,\n",
    "                                   'bagging_temperature': 0.15909129439715475,\n",
    "                                   'random_strength': 1.6930893184821436,\n",
    "                                   'depth': 4, \n",
    "                                   'min_data_in_leaf': 203,\n",
    "                                   'grow_policy': 'SymmetricTree',\n",
    "                                   'boosting_type': 'Plain',\n",
    "                                }"
   ]
  },
  {
   "cell_type": "code",
   "execution_count": 16,
   "id": "a7791431",
   "metadata": {
    "execution": {
     "iopub.execute_input": "2024-10-26T10:09:01.338725Z",
     "iopub.status.busy": "2024-10-26T10:09:01.338301Z",
     "iopub.status.idle": "2024-10-26T10:09:02.952901Z",
     "shell.execute_reply": "2024-10-26T10:09:02.951794Z"
    },
    "papermill": {
     "duration": 1.63296,
     "end_time": "2024-10-26T10:09:02.955919",
     "exception": false,
     "start_time": "2024-10-26T10:09:01.322959",
     "status": "completed"
    },
    "tags": []
   },
   "outputs": [],
   "source": [
    "from sklearn.model_selection import StratifiedKFold\n",
    "skf = StratifiedKFold(n_splits=10, shuffle=True, random_state=42)"
   ]
  },
  {
   "cell_type": "code",
   "execution_count": 17,
   "id": "88ba42ef",
   "metadata": {
    "execution": {
     "iopub.execute_input": "2024-10-26T10:09:02.986709Z",
     "iopub.status.busy": "2024-10-26T10:09:02.986137Z",
     "iopub.status.idle": "2024-10-26T10:32:43.629932Z",
     "shell.execute_reply": "2024-10-26T10:32:43.628437Z"
    },
    "papermill": {
     "duration": 1420.66225,
     "end_time": "2024-10-26T10:32:43.633093",
     "exception": false,
     "start_time": "2024-10-26T10:09:02.970843",
     "status": "completed"
    },
    "tags": []
   },
   "outputs": [
    {
     "name": "stdout",
     "output_type": "stream",
     "text": [
      "9123\n",
      "ROC-AUC Score: 0.9716\n",
      "iteration done  0\n",
      "9123\n",
      "ROC-AUC Score: 0.9702\n",
      "iteration done  1\n",
      "9123\n",
      "ROC-AUC Score: 0.9687\n",
      "iteration done  2\n",
      "9123\n",
      "ROC-AUC Score: 0.9685\n",
      "iteration done  3\n",
      "9123\n",
      "ROC-AUC Score: 0.9657\n",
      "iteration done  4\n",
      "9123\n",
      "ROC-AUC Score: 0.9684\n",
      "iteration done  5\n",
      "9122\n",
      "ROC-AUC Score: 0.9687\n",
      "iteration done  6\n",
      "9122\n",
      "ROC-AUC Score: 0.9627\n",
      "iteration done  7\n",
      "9122\n",
      "ROC-AUC Score: 0.9697\n",
      "iteration done  8\n",
      "9122\n",
      "ROC-AUC Score: 0.9643\n",
      "iteration done  9\n"
     ]
    }
   ],
   "source": [
    "from sklearn.model_selection import StratifiedKFold\n",
    "from catboost import CatBoostClassifier\n",
    "from xgboost import XGBClassifier\n",
    "from lightgbm import LGBMClassifier\n",
    "\n",
    "skf = StratifiedKFold(n_splits=10, shuffle=True, random_state=42)\n",
    "predictions = [] # Initialize an array to store predictions\n",
    "i = 0 \n",
    "cb_params = {\n",
    "    'border_count': 233,\n",
    "    'colsample_bylevel': 0.411551721028093,\n",
    "    'depth': 8,\n",
    "    'iterations': 1664,\n",
    "    'l2_leaf_reg': 1.5162407257384525,\n",
    "    'learning_rate': 0.01380027964891961,\n",
    "    'min_child_samples': 218,\n",
    "    'random_state': 1859,\n",
    "    'random_strength': 0.4028418793015393,\n",
    "    'scale_pos_weight': 1.7183429881588008,\n",
    "    'subsample': 0.996166121986487,\n",
    "    'verbose': False\n",
    "}\n",
    "cb_params_2 = {'objective': 'Logloss',\n",
    "                                   'eval_metric': \"AUC\",\n",
    "                                   'verbose': 0,\n",
    "                                   'random_state': 42,\n",
    "                                   'n_estimators': 5000,\n",
    "                                   'scale_pos_weight': 1.7183429881588008,\n",
    "                                   'learning_rate': 0.057695680893866355,\n",
    "                                   'l2_leaf_reg': 8.718243448685213,\n",
    "                                   'bagging_temperature': 15.939315101482947,\n",
    "                                   'random_strength': 1.2951116775412417,\n",
    "                                   'depth': 5,\n",
    "                                   'min_data_in_leaf': 65 \n",
    "                                }\n",
    "            \n",
    "oof_scores = []\n",
    "oof_predictions = []\n",
    "oof_yval = []\n",
    "for fold, (train_index, val_index) in enumerate(skf.split(X_TRAIN, Y_TRAIN)):\n",
    "    X_train, X_val = X_TRAIN.iloc[train_index], X_TRAIN.iloc[val_index]\n",
    "    y_train, y_val = Y_TRAIN.iloc[train_index], Y_TRAIN.iloc[val_index]\n",
    " \n",
    "    model =  CatBoostClassifier( **cb_params_3 , cat_features=X_TRAIN.columns.to_list()) \n",
    "     \n",
    "#         loss_function='Logloss',\n",
    "#         eval_metric='AUC',\n",
    "#         learning_rate=0.5,       # learning rate used for the gradient step\n",
    "#         iterations=100,          # max number of trees \n",
    "#         depth=5,                  # Depth of the trees\n",
    "#         random_strength=1,        # Randomness to use for scoring splits when tree is selected. (Avoid overfitting)\n",
    "#         l2_leaf_reg=50,            # regularization\n",
    "#         task_type='GPU',\n",
    "\n",
    "#         random_seed=42,\n",
    "#         verbose=False,\n",
    "        \n",
    "#         # HPO from winning insurance approach\n",
    "#         leaf_estimation_method=\"Newton\",\n",
    "#         bootstrap_type=\"Bernoulli\",\n",
    "#         grow_policy=\"SymmetricTree\",\n",
    "#         early_stopping_rounds=1,\n",
    "#         score_function='NewtonL2',\n",
    "#         leaf_estimation_iterations=1,\n",
    "#         subsample=.8,\n",
    "# #         reg_lambda=0.5,\n",
    "#         od_pval=0.1, cat_features=X_TRAIN.columns.to_list())# Or your chosen model\n",
    "    model.fit(X_train, y_train)\n",
    "    \n",
    "    oof = model.predict_proba(X_val)\n",
    "    print(len(oof[:,1]))\n",
    "    oof_predictions.append(oof[:,1])\n",
    "    oof_yval.append(y_val)\n",
    "    from sklearn.metrics import roc_auc_score\n",
    "    roc_auc = roc_auc_score(y_val, oof[:,1])\n",
    "    print(f\"ROC-AUC Score: {roc_auc:.4f}\")\n",
    "    oof_scores.append(roc_auc)\n",
    "    print(\"iteration done \", i)\n",
    "    predictions.append(model.predict_proba(X_TEST)[:,1]) \n",
    "    i = i +1         # Store predictions for the validation fold"
   ]
  },
  {
   "cell_type": "code",
   "execution_count": 18,
   "id": "ab4fd7e1",
   "metadata": {
    "execution": {
     "iopub.execute_input": "2024-10-26T10:32:43.667549Z",
     "iopub.status.busy": "2024-10-26T10:32:43.667018Z",
     "iopub.status.idle": "2024-10-26T10:36:23.409346Z",
     "shell.execute_reply": "2024-10-26T10:36:23.407846Z"
    },
    "papermill": {
     "duration": 219.772473,
     "end_time": "2024-10-26T10:36:23.420743",
     "exception": false,
     "start_time": "2024-10-26T10:32:43.648270",
     "status": "completed"
    },
    "tags": []
   },
   "outputs": [
    {
     "name": "stdout",
     "output_type": "stream",
     "text": [
      "ROC-AUC Score lightgbm: 0.9653\n",
      "iteration done  0\n",
      "ROC-AUC Score lightgbm: 0.9659\n",
      "iteration done  1\n",
      "ROC-AUC Score lightgbm: 0.9626\n",
      "iteration done  2\n",
      "ROC-AUC Score lightgbm: 0.9640\n",
      "iteration done  3\n",
      "ROC-AUC Score lightgbm: 0.9579\n",
      "iteration done  4\n",
      "ROC-AUC Score lightgbm: 0.9632\n",
      "iteration done  5\n",
      "ROC-AUC Score lightgbm: 0.9617\n",
      "iteration done  6\n",
      "ROC-AUC Score lightgbm: 0.9541\n",
      "iteration done  7\n",
      "ROC-AUC Score lightgbm: 0.9627\n",
      "iteration done  8\n",
      "ROC-AUC Score lightgbm: 0.9582\n",
      "iteration done  9\n"
     ]
    }
   ],
   "source": [
    "oof_scores1 = []\n",
    "i =0\n",
    "lgb_predictions = []\n",
    "oof_predictions1 = []\n",
    "oof_yval1 = []\n",
    "for fold, (train_index, val_index) in enumerate(skf.split(X_TRAIN_COPY, Y_TRAIN)):\n",
    "    X_train, X_val = X_TRAIN_COPY.iloc[train_index], X_TRAIN_COPY.iloc[val_index]\n",
    "    y_train, y_val = Y_TRAIN.iloc[train_index], Y_TRAIN.iloc[val_index]\n",
    " \n",
    "    lgb = LGBMClassifier(**lgb_params)\n",
    "    lgb.fit(X_train, y_train, categorical_feature= categorical)\n",
    "    \n",
    "    oof1 = lgb.predict_proba(X_val)\n",
    "    from sklearn.metrics import roc_auc_score\n",
    "    oof_predictions1.append(oof1[:,1])\n",
    "    oof_yval1.append(y_val)\n",
    "    lgb_predictions.append(lgb.predict_proba(X_TEST_COPY)[:,1]) \n",
    "    roc_auc1 = roc_auc_score(y_val, oof1[:,1])\n",
    "    print(f\"ROC-AUC Score lightgbm: {roc_auc1:.4f}\")\n",
    "    oof_scores1.append(roc_auc1)\n",
    "    print(\"iteration done \", i) \n",
    "    i = i +1         # Store predictions for the validation fold"
   ]
  },
  {
   "cell_type": "code",
   "execution_count": 19,
   "id": "b8d033b9",
   "metadata": {
    "execution": {
     "iopub.execute_input": "2024-10-26T10:36:23.453485Z",
     "iopub.status.busy": "2024-10-26T10:36:23.453018Z",
     "iopub.status.idle": "2024-10-26T10:36:23.470648Z",
     "shell.execute_reply": "2024-10-26T10:36:23.469158Z"
    },
    "papermill": {
     "duration": 0.037314,
     "end_time": "2024-10-26T10:36:23.473401",
     "exception": false,
     "start_time": "2024-10-26T10:36:23.436087",
     "status": "completed"
    },
    "tags": []
   },
   "outputs": [
    {
     "name": "stdout",
     "output_type": "stream",
     "text": [
      "<class 'pandas.core.frame.DataFrame'>\n",
      "Index: 91226 entries, 0 to 32580\n",
      "Data columns (total 11 columns):\n",
      " #   Column                      Non-Null Count  Dtype   \n",
      "---  ------                      --------------  -----   \n",
      " 0   person_age                  91226 non-null  int64   \n",
      " 1   person_income               91226 non-null  int64   \n",
      " 2   person_home_ownership       91226 non-null  category\n",
      " 3   person_emp_length           91226 non-null  float64 \n",
      " 4   loan_intent                 91226 non-null  category\n",
      " 5   loan_grade                  91226 non-null  category\n",
      " 6   loan_amnt                   91226 non-null  int64   \n",
      " 7   loan_int_rate               91226 non-null  float64 \n",
      " 8   loan_percent_income         91226 non-null  float64 \n",
      " 9   cb_person_default_on_file   91226 non-null  category\n",
      " 10  cb_person_cred_hist_length  91226 non-null  int64   \n",
      "dtypes: category(4), float64(3), int64(4)\n",
      "memory usage: 5.9 MB\n"
     ]
    }
   ],
   "source": [
    "X_TRAIN_COPY2.info()"
   ]
  },
  {
   "cell_type": "code",
   "execution_count": 20,
   "id": "13ae34a2",
   "metadata": {
    "execution": {
     "iopub.execute_input": "2024-10-26T10:36:23.507653Z",
     "iopub.status.busy": "2024-10-26T10:36:23.507183Z",
     "iopub.status.idle": "2024-10-26T11:29:08.996258Z",
     "shell.execute_reply": "2024-10-26T11:29:08.994812Z"
    },
    "papermill": {
     "duration": 3165.530603,
     "end_time": "2024-10-26T11:29:09.020078",
     "exception": false,
     "start_time": "2024-10-26T10:36:23.489475",
     "status": "completed"
    },
    "tags": []
   },
   "outputs": [
    {
     "name": "stdout",
     "output_type": "stream",
     "text": [
      "ROC-AUC Score lightgbm: 0.9635\n",
      "iteration done  0\n",
      "ROC-AUC Score lightgbm: 0.9657\n",
      "iteration done  1\n",
      "ROC-AUC Score lightgbm: 0.9637\n",
      "iteration done  2\n",
      "ROC-AUC Score lightgbm: 0.9643\n",
      "iteration done  3\n",
      "ROC-AUC Score lightgbm: 0.9577\n",
      "iteration done  4\n",
      "ROC-AUC Score lightgbm: 0.9627\n",
      "iteration done  5\n",
      "ROC-AUC Score lightgbm: 0.9602\n",
      "iteration done  6\n",
      "ROC-AUC Score lightgbm: 0.9535\n",
      "iteration done  7\n",
      "ROC-AUC Score lightgbm: 0.9644\n",
      "iteration done  8\n",
      "ROC-AUC Score lightgbm: 0.9577\n",
      "iteration done  9\n"
     ]
    }
   ],
   "source": [
    "from sklearn.ensemble import HistGradientBoostingClassifier, GradientBoostingClassifier\n",
    "oof_scores2 = []\n",
    "i =0\n",
    "gb_predictions = []\n",
    "oof_predictions2 = []\n",
    "oof_yval2 = []\n",
    "for fold, (train_index, val_index) in enumerate(skf.split(X_TRAIN_COPY, Y_TRAIN)):\n",
    "    X_train, X_val = X_TRAIN_COPY.iloc[train_index], X_TRAIN_COPY.iloc[val_index]\n",
    "    y_train, y_val = Y_TRAIN.iloc[train_index], Y_TRAIN.iloc[val_index]\n",
    " \n",
    "    gb =  GradientBoostingClassifier(**gb_best_params)\n",
    "    gb.fit(X_train, y_train)\n",
    "    oof2 = gb.predict_proba(X_val)\n",
    "    from sklearn.metrics import roc_auc_score\n",
    "    oof_predictions2.append(oof2[:,1])\n",
    "    oof_yval2.append(y_val)\n",
    "    gb_predictions.append(gb.predict_proba(X_TEST_COPY)[:,1]) \n",
    "    roc_auc2 = roc_auc_score(y_val, oof2[:,1])\n",
    "    print(f\"ROC-AUC Score lightgbm: {roc_auc2:.4f}\")\n",
    "    oof_scores2.append(roc_auc1)\n",
    "    print(\"iteration done \", i) \n",
    "    i = i +1         # Store predictions for the validation fold"
   ]
  },
  {
   "cell_type": "code",
   "execution_count": 21,
   "id": "1806866d",
   "metadata": {
    "execution": {
     "iopub.execute_input": "2024-10-26T11:29:09.058275Z",
     "iopub.status.busy": "2024-10-26T11:29:09.057712Z",
     "iopub.status.idle": "2024-10-26T11:30:58.220723Z",
     "shell.execute_reply": "2024-10-26T11:30:58.219352Z"
    },
    "papermill": {
     "duration": 109.184244,
     "end_time": "2024-10-26T11:30:58.223442",
     "exception": false,
     "start_time": "2024-10-26T11:29:09.039198",
     "status": "completed"
    },
    "tags": []
   },
   "outputs": [
    {
     "name": "stdout",
     "output_type": "stream",
     "text": [
      "ROC-AUC Score: 0.9577\n",
      "iteration done  0\n",
      "ROC-AUC Score: 0.9621\n",
      "iteration done  1\n",
      "ROC-AUC Score: 0.9566\n",
      "iteration done  2\n",
      "ROC-AUC Score: 0.9562\n",
      "iteration done  3\n",
      "ROC-AUC Score: 0.9526\n",
      "iteration done  4\n",
      "ROC-AUC Score: 0.9566\n",
      "iteration done  5\n",
      "ROC-AUC Score: 0.9520\n",
      "iteration done  6\n",
      "ROC-AUC Score: 0.9469\n",
      "iteration done  7\n",
      "ROC-AUC Score: 0.9585\n",
      "iteration done  8\n",
      "ROC-AUC Score: 0.9531\n",
      "iteration done  9\n"
     ]
    }
   ],
   "source": [
    "from sklearn.ensemble import HistGradientBoostingClassifier\n",
    "oof_scores3 = []\n",
    "i =0\n",
    "hgb_predictions = []\n",
    "oof_predictions3 = []\n",
    "oof_yval3 = []\n",
    "for fold, (train_index, val_index) in enumerate(skf.split(X_TRAIN_COPY, Y_TRAIN)):\n",
    "    X_train, X_val = X_TRAIN_COPY.iloc[train_index], X_TRAIN_COPY.iloc[val_index]\n",
    "    y_train, y_val = Y_TRAIN.iloc[train_index], Y_TRAIN.iloc[val_index]\n",
    " \n",
    "    hgb =  HistGradientBoostingClassifier(**hgb_params)\n",
    "    hgb.fit(X_train, y_train)\n",
    "    oof3 = hgb.predict_proba(X_val)\n",
    "    from sklearn.metrics import roc_auc_score\n",
    "    oof_predictions3.append(oof3[:,1])\n",
    "    oof_yval3.append(y_val)\n",
    "    hgb_predictions.append(hgb.predict_proba(X_TEST_COPY)[:,1]) \n",
    "    roc_auc3 = roc_auc_score(y_val, oof3[:,1])\n",
    "    print(f\"ROC-AUC Score: {roc_auc3:.4f}\")\n",
    "    oof_scores3.append(roc_auc3)\n",
    "    print(\"iteration done \", i) \n",
    "    i = i +1         # Store predictions for the validation fold"
   ]
  },
  {
   "cell_type": "code",
   "execution_count": 22,
   "id": "765c25e8",
   "metadata": {
    "execution": {
     "iopub.execute_input": "2024-10-26T11:30:58.260337Z",
     "iopub.status.busy": "2024-10-26T11:30:58.259896Z",
     "iopub.status.idle": "2024-10-26T12:20:37.683296Z",
     "shell.execute_reply": "2024-10-26T12:20:37.681989Z"
    },
    "papermill": {
     "duration": 2979.463507,
     "end_time": "2024-10-26T12:20:37.704451",
     "exception": false,
     "start_time": "2024-10-26T11:30:58.240944",
     "status": "completed"
    },
    "tags": []
   },
   "outputs": [
    {
     "name": "stdout",
     "output_type": "stream",
     "text": [
      "ROC-AUC Score lightgbm: 0.9596\n",
      "iteration done  0\n",
      "ROC-AUC Score lightgbm: 0.9639\n",
      "iteration done  1\n",
      "ROC-AUC Score lightgbm: 0.9614\n",
      "iteration done  2\n",
      "ROC-AUC Score lightgbm: 0.9617\n",
      "iteration done  3\n",
      "ROC-AUC Score lightgbm: 0.9550\n",
      "iteration done  4\n",
      "ROC-AUC Score lightgbm: 0.9601\n",
      "iteration done  5\n",
      "ROC-AUC Score lightgbm: 0.9593\n",
      "iteration done  6\n",
      "ROC-AUC Score lightgbm: 0.9528\n",
      "iteration done  7\n",
      "ROC-AUC Score lightgbm: 0.9620\n",
      "iteration done  8\n",
      "ROC-AUC Score lightgbm: 0.9585\n",
      "iteration done  9\n"
     ]
    }
   ],
   "source": [
    "from lightgbm import LGBMClassifier\n",
    "oof_scores4 = []\n",
    "i =0\n",
    "lgb_dart_predictions = []\n",
    "oof_predictions4 = []\n",
    "oof_yval4 = []\n",
    "for fold, (train_index, val_index) in enumerate(skf.split(X_TRAIN_COPY, Y_TRAIN)):\n",
    "    X_train, X_val = X_TRAIN_COPY.iloc[train_index], X_TRAIN_COPY.iloc[val_index]\n",
    "    y_train, y_val = Y_TRAIN.iloc[train_index], Y_TRAIN.iloc[val_index]\n",
    " \n",
    "    lgb_dart = LGBMClassifier(**lgb_dart_params)\n",
    "    lgb_dart.fit(X_train, y_train, categorical_feature= categorical)\n",
    "    \n",
    "    oof4 = lgb_dart.predict_proba(X_val)\n",
    "    from sklearn.metrics import roc_auc_score\n",
    "    oof_predictions4.append(oof4[:,1])\n",
    "    oof_yval4.append(y_val)\n",
    "    lgb_dart_predictions.append(lgb_dart.predict_proba(X_TEST_COPY)[:,1]) \n",
    "    roc_auc4 = roc_auc_score(y_val, oof4[:,1])\n",
    "    print(f\"ROC-AUC Score lightgbm: {roc_auc4:.4f}\")\n",
    "    oof_scores4.append(roc_auc4)\n",
    "    print(\"iteration done \", i) \n",
    "    i = i +1         # Store predictions for the validation fold"
   ]
  },
  {
   "cell_type": "code",
   "execution_count": 23,
   "id": "c5cf1e9d",
   "metadata": {
    "execution": {
     "iopub.execute_input": "2024-10-26T12:20:37.742984Z",
     "iopub.status.busy": "2024-10-26T12:20:37.742550Z",
     "iopub.status.idle": "2024-10-26T12:25:50.992522Z",
     "shell.execute_reply": "2024-10-26T12:25:50.991384Z"
    },
    "papermill": {
     "duration": 313.291119,
     "end_time": "2024-10-26T12:25:51.013753",
     "exception": false,
     "start_time": "2024-10-26T12:20:37.722634",
     "status": "completed"
    },
    "tags": []
   },
   "outputs": [
    {
     "name": "stdout",
     "output_type": "stream",
     "text": [
      "ROC-AUC Score lightgbm: 0.9642\n",
      "iteration done  0\n",
      "ROC-AUC Score lightgbm: 0.9663\n",
      "iteration done  1\n",
      "ROC-AUC Score lightgbm: 0.9638\n",
      "iteration done  2\n",
      "ROC-AUC Score lightgbm: 0.9656\n",
      "iteration done  3\n",
      "ROC-AUC Score lightgbm: 0.9583\n",
      "iteration done  4\n",
      "ROC-AUC Score lightgbm: 0.9629\n",
      "iteration done  5\n",
      "ROC-AUC Score lightgbm: 0.9624\n",
      "iteration done  6\n",
      "ROC-AUC Score lightgbm: 0.9543\n",
      "iteration done  7\n",
      "ROC-AUC Score lightgbm: 0.9638\n",
      "iteration done  8\n",
      "ROC-AUC Score lightgbm: 0.9589\n",
      "iteration done  9\n"
     ]
    }
   ],
   "source": [
    "from xgboost import XGBClassifier\n",
    "oof_scores6 = []\n",
    "i =0\n",
    "xgb_predictions = []\n",
    "oof_predictions6 = []\n",
    "oof_yval6 = []\n",
    "for fold, (train_index, val_index) in enumerate(skf.split(X_TRAIN_COPY, Y_TRAIN)):\n",
    "    X_train, X_val = X_TRAIN_COPY.iloc[train_index], X_TRAIN_COPY.iloc[val_index]\n",
    "    y_train, y_val = Y_TRAIN.iloc[train_index], Y_TRAIN.iloc[val_index]\n",
    " \n",
    "    xgb = XGBClassifier(**xgb_params1)\n",
    "    xgb.fit(X_train, y_train)\n",
    "    \n",
    "    oof6 = xgb.predict_proba(X_val)\n",
    "    from sklearn.metrics import roc_auc_score\n",
    "    oof_predictions6.append(oof6[:,1])\n",
    "    oof_yval6.append(y_val)\n",
    "    xgb_predictions.append(xgb.predict_proba(X_TEST_COPY)[:,1]) \n",
    "    roc_auc6 = roc_auc_score(y_val, oof6[:,1])\n",
    "    print(f\"ROC-AUC Score lightgbm: {roc_auc6:.4f}\")\n",
    "    oof_scores6.append(roc_auc6)\n",
    "    print(\"iteration done \", i) \n",
    "    i = i +1         # Store predictions for the validation fold"
   ]
  },
  {
   "cell_type": "code",
   "execution_count": 24,
   "id": "1b5f28af",
   "metadata": {
    "execution": {
     "iopub.execute_input": "2024-10-26T12:25:51.054049Z",
     "iopub.status.busy": "2024-10-26T12:25:51.053583Z",
     "iopub.status.idle": "2024-10-26T12:31:31.132371Z",
     "shell.execute_reply": "2024-10-26T12:31:31.131121Z"
    },
    "papermill": {
     "duration": 340.121876,
     "end_time": "2024-10-26T12:31:31.154768",
     "exception": false,
     "start_time": "2024-10-26T12:25:51.032892",
     "status": "completed"
    },
    "tags": []
   },
   "outputs": [
    {
     "name": "stdout",
     "output_type": "stream",
     "text": [
      "ROC-AUC Score lightgbm: 0.9406\n",
      "iteration done  0\n",
      "ROC-AUC Score lightgbm: 0.9438\n",
      "iteration done  1\n",
      "ROC-AUC Score lightgbm: 0.9397\n",
      "iteration done  2\n",
      "ROC-AUC Score lightgbm: 0.9433\n",
      "iteration done  3\n",
      "ROC-AUC Score lightgbm: 0.9417\n",
      "iteration done  4\n",
      "ROC-AUC Score lightgbm: 0.9423\n",
      "iteration done  5\n",
      "ROC-AUC Score lightgbm: 0.9395\n",
      "iteration done  6\n",
      "ROC-AUC Score lightgbm: 0.9350\n",
      "iteration done  7\n",
      "ROC-AUC Score lightgbm: 0.9486\n",
      "iteration done  8\n",
      "ROC-AUC Score lightgbm: 0.9393\n",
      "iteration done  9\n"
     ]
    }
   ],
   "source": [
    "from lightgbm import LGBMClassifier\n",
    "oof_scores5 = []\n",
    "i =0\n",
    "lgb_goss_predictions = []\n",
    "oof_predictions5 = []\n",
    "oof_yval5 = []\n",
    "for fold, (train_index, val_index) in enumerate(skf.split(X_TRAIN_COPY, Y_TRAIN)):\n",
    "    X_train, X_val = X_TRAIN_COPY.iloc[train_index], X_TRAIN_COPY.iloc[val_index]\n",
    "    y_train, y_val = Y_TRAIN.iloc[train_index], Y_TRAIN.iloc[val_index]\n",
    " \n",
    "    lgb_goss = LGBMClassifier(**lgb_goss_params)\n",
    "    lgb_goss.fit(X_train, y_train, categorical_feature= X_train.columns.to_list())\n",
    "    \n",
    "    oof5 = lgb_goss.predict_proba(X_val)\n",
    "    from sklearn.metrics import roc_auc_score\n",
    "    oof_predictions5.append(oof5[:,1])\n",
    "    oof_yval5.append(y_val)\n",
    "    lgb_goss_predictions.append(lgb_goss.predict_proba(X_TEST_COPY)[:,1]) \n",
    "    roc_auc5 = roc_auc_score(y_val, oof5[:,1])\n",
    "    print(f\"ROC-AUC Score lightgbm: {roc_auc5:.4f}\")\n",
    "    oof_scores5.append(roc_auc5)\n",
    "    print(\"iteration done \", i) \n",
    "    i = i +1         # Store predictions for the validation fold"
   ]
  },
  {
   "cell_type": "code",
   "execution_count": 25,
   "id": "fc8b38b8",
   "metadata": {
    "execution": {
     "iopub.execute_input": "2024-10-26T12:31:31.197529Z",
     "iopub.status.busy": "2024-10-26T12:31:31.197011Z",
     "iopub.status.idle": "2024-10-26T14:10:31.414615Z",
     "shell.execute_reply": "2024-10-26T14:10:31.413140Z"
    },
    "papermill": {
     "duration": 5940.242794,
     "end_time": "2024-10-26T14:10:31.417730",
     "exception": false,
     "start_time": "2024-10-26T12:31:31.174936",
     "status": "completed"
    },
    "tags": []
   },
   "outputs": [
    {
     "name": "stdout",
     "output_type": "stream",
     "text": [
      "9123\n",
      "ROC-AUC Score: 0.9719\n",
      "iteration done  0\n",
      "9123\n",
      "ROC-AUC Score: 0.9697\n",
      "iteration done  1\n",
      "9123\n",
      "ROC-AUC Score: 0.9683\n",
      "iteration done  2\n",
      "9123\n",
      "ROC-AUC Score: 0.9685\n",
      "iteration done  3\n",
      "9123\n",
      "ROC-AUC Score: 0.9659\n",
      "iteration done  4\n",
      "9123\n",
      "ROC-AUC Score: 0.9682\n",
      "iteration done  5\n",
      "9122\n",
      "ROC-AUC Score: 0.9691\n",
      "iteration done  6\n",
      "9122\n",
      "ROC-AUC Score: 0.9627\n",
      "iteration done  7\n",
      "9122\n",
      "ROC-AUC Score: 0.9699\n",
      "iteration done  8\n",
      "9122\n",
      "ROC-AUC Score: 0.9652\n",
      "iteration done  9\n"
     ]
    }
   ],
   "source": [
    "from sklearn.model_selection import StratifiedKFold\n",
    "from catboost import CatBoostClassifier\n",
    "from xgboost import XGBClassifier\n",
    "from lightgbm import LGBMClassifier\n",
    "\n",
    "cat2_predictions = [] # Initialize an array to store predictions\n",
    "i = 0 \n",
    "oof_scores7 = []\n",
    "oof_predictions7 = []\n",
    "oof_yval7 = []\n",
    "for fold, (train_index, val_index) in enumerate(skf.split(X_TRAIN, Y_TRAIN)):\n",
    "    X_train, X_val = X_TRAIN.iloc[train_index], X_TRAIN.iloc[val_index]\n",
    "    y_train, y_val = Y_TRAIN.iloc[train_index], Y_TRAIN.iloc[val_index]\n",
    " \n",
    "    model =  CatBoostClassifier( **cb_params_2 , cat_features=X_TRAIN.columns.to_list()) \n",
    "     \n",
    "    model.fit(X_train, y_train)\n",
    "    \n",
    "    oof7 = model.predict_proba(X_val)\n",
    "    print(len(oof7[:,1]))\n",
    "    oof_predictions7.append(oof7[:,1])\n",
    "    oof_yval7.append(y_val)\n",
    "    from sklearn.metrics import roc_auc_score\n",
    "    roc_auc7 = roc_auc_score(y_val, oof7[:,1])\n",
    "    print(f\"ROC-AUC Score: {roc_auc7:.4f}\")\n",
    "    oof_scores7.append(roc_auc7)\n",
    "    print(\"iteration done \", i)\n",
    "    cat2_predictions.append(model.predict_proba(X_TEST)[:,1]) \n",
    "    i = i +1         # Store predictions for the validation fold"
   ]
  },
  {
   "cell_type": "code",
   "execution_count": 26,
   "id": "9b04a13d",
   "metadata": {
    "execution": {
     "iopub.execute_input": "2024-10-26T14:10:31.463627Z",
     "iopub.status.busy": "2024-10-26T14:10:31.463068Z",
     "iopub.status.idle": "2024-10-26T15:29:56.563966Z",
     "shell.execute_reply": "2024-10-26T15:29:56.562307Z"
    },
    "papermill": {
     "duration": 4765.128982,
     "end_time": "2024-10-26T15:29:56.567875",
     "exception": false,
     "start_time": "2024-10-26T14:10:31.438893",
     "status": "completed"
    },
    "tags": []
   },
   "outputs": [
    {
     "name": "stdout",
     "output_type": "stream",
     "text": [
      "9123\n",
      "ROC-AUC Score: 0.9715\n",
      "iteration done  0\n",
      "9123\n",
      "ROC-AUC Score: 0.9704\n",
      "iteration done  1\n",
      "9123\n",
      "ROC-AUC Score: 0.9686\n",
      "iteration done  2\n",
      "9123\n",
      "ROC-AUC Score: 0.9678\n",
      "iteration done  3\n",
      "9123\n",
      "ROC-AUC Score: 0.9647\n",
      "iteration done  4\n",
      "9123\n",
      "ROC-AUC Score: 0.9677\n",
      "iteration done  5\n",
      "9122\n",
      "ROC-AUC Score: 0.9685\n",
      "iteration done  6\n",
      "9122\n",
      "ROC-AUC Score: 0.9626\n",
      "iteration done  7\n",
      "9122\n",
      "ROC-AUC Score: 0.9695\n",
      "iteration done  8\n",
      "9122\n",
      "ROC-AUC Score: 0.9646\n",
      "iteration done  9\n"
     ]
    }
   ],
   "source": [
    "from sklearn.model_selection import StratifiedKFold\n",
    "from catboost import CatBoostClassifier\n",
    "from xgboost import XGBClassifier\n",
    "from lightgbm import LGBMClassifier\n",
    "\n",
    "cat3_predictions = [] # Initialize an array to store predictions\n",
    "i = 0 \n",
    "oof_scores8 = []\n",
    "oof_predictions8 = []\n",
    "oof_yval8 = []\n",
    "for fold, (train_index, val_index) in enumerate(skf.split(X_TRAIN, Y_TRAIN)):\n",
    "    X_train, X_val = X_TRAIN.iloc[train_index], X_TRAIN.iloc[val_index]\n",
    "    y_train, y_val = Y_TRAIN.iloc[train_index], Y_TRAIN.iloc[val_index]\n",
    " \n",
    "    model =  CatBoostClassifier( **cb_params_4 , cat_features=X_TRAIN.columns.to_list()) \n",
    "     \n",
    "    model.fit(X_train, y_train)\n",
    "    \n",
    "    oof8 = model.predict_proba(X_val)\n",
    "    print(len(oof8[:,1]))\n",
    "    oof_predictions8.append(oof8[:,1])\n",
    "    oof_yval8.append(y_val)\n",
    "    from sklearn.metrics import roc_auc_score\n",
    "    roc_auc8 = roc_auc_score(y_val, oof8[:,1])\n",
    "    print(f\"ROC-AUC Score: {roc_auc8:.4f}\")\n",
    "    oof_scores8.append(roc_auc8)\n",
    "    print(\"iteration done \", i)\n",
    "    cat3_predictions.append(model.predict_proba(X_TEST)[:,1]) \n",
    "    i = i +1         # Store predictions for the validation fold"
   ]
  },
  {
   "cell_type": "code",
   "execution_count": 27,
   "id": "9a004a2f",
   "metadata": {
    "execution": {
     "iopub.execute_input": "2024-10-26T15:29:56.637256Z",
     "iopub.status.busy": "2024-10-26T15:29:56.635399Z",
     "iopub.status.idle": "2024-10-26T15:29:56.645933Z",
     "shell.execute_reply": "2024-10-26T15:29:56.644653Z"
    },
    "papermill": {
     "duration": 0.048284,
     "end_time": "2024-10-26T15:29:56.648394",
     "exception": false,
     "start_time": "2024-10-26T15:29:56.600110",
     "status": "completed"
    },
    "tags": []
   },
   "outputs": [
    {
     "name": "stdout",
     "output_type": "stream",
     "text": [
      "[1, 2, 3, 4]\n"
     ]
    }
   ],
   "source": [
    "a=[1,2,3,4]\n",
    "print(a)"
   ]
  },
  {
   "cell_type": "code",
   "execution_count": 28,
   "id": "4b8e2f17",
   "metadata": {
    "execution": {
     "iopub.execute_input": "2024-10-26T15:29:56.696949Z",
     "iopub.status.busy": "2024-10-26T15:29:56.696462Z",
     "iopub.status.idle": "2024-10-26T15:29:56.702665Z",
     "shell.execute_reply": "2024-10-26T15:29:56.701503Z"
    },
    "papermill": {
     "duration": 0.034486,
     "end_time": "2024-10-26T15:29:56.705805",
     "exception": false,
     "start_time": "2024-10-26T15:29:56.671319",
     "status": "completed"
    },
    "tags": []
   },
   "outputs": [],
   "source": [
    "# oof_probas = np.stack(oof_predictions)\n",
    "# oof_avg_probas = np.mean(oof_probas, axis=0)\n",
    "\n",
    "# oof_probas1 = np.stack(oof_predictions1)\n",
    "# oof_avg_probas1 = np.mean(oof_probas1, axis=0)"
   ]
  },
  {
   "cell_type": "code",
   "execution_count": 29,
   "id": "cefb47b9",
   "metadata": {
    "execution": {
     "iopub.execute_input": "2024-10-26T15:29:56.756126Z",
     "iopub.status.busy": "2024-10-26T15:29:56.755571Z",
     "iopub.status.idle": "2024-10-26T15:29:56.769689Z",
     "shell.execute_reply": "2024-10-26T15:29:56.768432Z"
    },
    "papermill": {
     "duration": 0.041262,
     "end_time": "2024-10-26T15:29:56.772758",
     "exception": false,
     "start_time": "2024-10-26T15:29:56.731496",
     "status": "completed"
    },
    "tags": []
   },
   "outputs": [],
   "source": [
    "def objective_function(weights, oof_preds1, oof_preds2, oof_preds3,oof_preds4, \n",
    "                       oof_preds5,oof_preds6,oof_preds7,oof_preds8, oof_preds9,y_true):\n",
    "#def objective_function(weights, oof_preds1, oof_preds2, y_true):    \n",
    "  \"\"\"Calculates the evaluation metric (e.g., accuracy) for given weights.\"\"\"\n",
    "  scores = [] \n",
    "  for i in range(10):\n",
    "    oof_pred1 = oof_preds1[i]\n",
    "    oof_pred2 = oof_preds2[i]\n",
    "    oof_pred3 = oof_preds3[i]\n",
    "    oof_pred4 = oof_preds4[i]\n",
    "    oof_pred5 = oof_preds5[i]\n",
    "    oof_pred6 = oof_preds6[i]\n",
    "    oof_pred7 = oof_preds7[i]\n",
    "    oof_pred8 = oof_preds8[i]\n",
    "    oof_pred9 = oof_preds9[i]\n",
    "#     print(oof_pred1.shape)\n",
    "#     print(y_true[i].shape)\n",
    "    \n",
    "    total = weights[0]*oof_pred1 + weights[1]*oof_pred2 + weights[2]*oof_pred3 +weights[3]*oof_pred4+weights[4]*oof_pred5+weights[5]*oof_pred6 + weights[6]*oof_pred7 + weights[7]*oof_pred8+ weights[8]*oof_pred9\n",
    "#     print(total)\n",
    "    roc_auc = roc_auc_score(y_true[i], total)\n",
    "    #print(f\"ROC-AUC Score lightgbm: {roc_auc:.4f}\")\n",
    "    scores.append(roc_auc )\n",
    "  return np.mean(scores)\n",
    "\n"
   ]
  },
  {
   "cell_type": "code",
   "execution_count": 30,
   "id": "d62c2eb5",
   "metadata": {
    "execution": {
     "iopub.execute_input": "2024-10-26T15:29:56.825004Z",
     "iopub.status.busy": "2024-10-26T15:29:56.824480Z",
     "iopub.status.idle": "2024-10-26T15:29:56.837491Z",
     "shell.execute_reply": "2024-10-26T15:29:56.836342Z"
    },
    "papermill": {
     "duration": 0.044111,
     "end_time": "2024-10-26T15:29:56.840317",
     "exception": false,
     "start_time": "2024-10-26T15:29:56.796206",
     "status": "completed"
    },
    "tags": []
   },
   "outputs": [],
   "source": [
    "def hill_climbing(oof_preds1, oof_preds2, oof_preds3,oof_preds4,oof_preds5, oof_preds6, \n",
    "                  oof_preds7,oof_preds8,oof_preds9,y_true, iterations=1000, step_size=0.01):\n",
    "#def hill_climbing(oof_preds1, oof_preds2, y_true, iterations=1000, step_size=0.01):\n",
    "  \"\"\"Performs hill climbing to find optimal weights.\"\"\"\n",
    "  best_weights = [0.2, 0.1, 0.1, 0.1,0.1,0.1,0.1, 0.1,0.1]  # Initialize with equal weights\n",
    "  best_score = objective_function(best_weights, oof_preds1, oof_preds2,\n",
    "                                  oof_preds3, oof_preds4,oof_preds5, oof_preds6,oof_preds7,\n",
    "                                  oof_preds8,oof_preds9, y_true)\n",
    "  i = 0\n",
    "  for _ in range(iterations):\n",
    "    # Generate random neighbor weights\n",
    "    new_weights = [w + np.random.uniform(-step_size, step_size) for w in best_weights]\n",
    "    # Ensure weights sum to 1\n",
    "    new_weights = [w / sum(new_weights) for w in new_weights]  \n",
    "    new_score = objective_function(new_weights, oof_preds1, \n",
    "                                   oof_preds2, \n",
    "                                   oof_preds3, \n",
    "                                   oof_preds4,\n",
    "                                   oof_preds5,\n",
    "                                   oof_preds6,\n",
    "                                   oof_preds7,\n",
    "                                   oof_preds8,\n",
    "                                   oof_preds9,\n",
    "                                   y_true)\n",
    "    i = i+1\n",
    "    if i%100==0:\n",
    "        print(i)\n",
    "        \n",
    "    # Update if new weights are better\n",
    "    if new_score > best_score:\n",
    "      best_score = new_score\n",
    "      best_weights = new_weights\n",
    "\n",
    "  return best_weights, best_score"
   ]
  },
  {
   "cell_type": "code",
   "execution_count": 31,
   "id": "8367ca09",
   "metadata": {
    "execution": {
     "iopub.execute_input": "2024-10-26T15:29:56.891632Z",
     "iopub.status.busy": "2024-10-26T15:29:56.891165Z",
     "iopub.status.idle": "2024-10-26T15:30:43.179539Z",
     "shell.execute_reply": "2024-10-26T15:30:43.178356Z"
    },
    "papermill": {
     "duration": 46.315156,
     "end_time": "2024-10-26T15:30:43.182008",
     "exception": false,
     "start_time": "2024-10-26T15:29:56.866852",
     "status": "completed"
    },
    "tags": []
   },
   "outputs": [
    {
     "name": "stdout",
     "output_type": "stream",
     "text": [
      "100\n",
      "200\n",
      "300\n",
      "400\n",
      "500\n",
      "600\n",
      "700\n",
      "800\n",
      "900\n",
      "1000\n",
      "Best weights: [0.24881562867047316, 0.11592113874280088, -0.04367396812979813, 0.06179086737600691, 0.03728049622602646, -0.0006576518262287325, 0.15196693550684964, 0.23106983003185602, 0.19748672340201373], Best score: 0.9693080887776239\n"
     ]
    }
   ],
   "source": [
    "# Assuming 'oof_preds1' and 'oof_preds2' are your OOF predictions\n",
    "# and 'Y_TRAIN['outcome']' is your true target variable\n",
    "best_weights, best_score = hill_climbing(oof_predictions, oof_predictions1, \n",
    "                                         oof_predictions2,\n",
    "                                         oof_predictions3,\n",
    "                                         oof_predictions4,\n",
    "                                         oof_predictions5,\n",
    "                                         oof_predictions6,\n",
    "                                         oof_predictions7,\n",
    "                                         oof_predictions8,\n",
    "                                         oof_yval)\n",
    "print(f\"Best weights: {best_weights}, Best score: {best_score}\")"
   ]
  },
  {
   "cell_type": "code",
   "execution_count": 32,
   "id": "dd147a95",
   "metadata": {
    "execution": {
     "iopub.execute_input": "2024-10-26T15:30:43.230708Z",
     "iopub.status.busy": "2024-10-26T15:30:43.229910Z",
     "iopub.status.idle": "2024-10-26T15:30:43.241302Z",
     "shell.execute_reply": "2024-10-26T15:30:43.240120Z"
    },
    "papermill": {
     "duration": 0.038452,
     "end_time": "2024-10-26T15:30:43.243696",
     "exception": false,
     "start_time": "2024-10-26T15:30:43.205244",
     "status": "completed"
    },
    "tags": []
   },
   "outputs": [
    {
     "data": {
      "text/plain": [
       "10"
      ]
     },
     "execution_count": 32,
     "metadata": {},
     "output_type": "execute_result"
    }
   ],
   "source": [
    "# Ensemble predictions using the optimized weights\n",
    "len(oof_yval)"
   ]
  },
  {
   "cell_type": "code",
   "execution_count": 33,
   "id": "7513fd07",
   "metadata": {
    "execution": {
     "iopub.execute_input": "2024-10-26T15:30:43.292349Z",
     "iopub.status.busy": "2024-10-26T15:30:43.291753Z",
     "iopub.status.idle": "2024-10-26T15:30:43.327083Z",
     "shell.execute_reply": "2024-10-26T15:30:43.325852Z"
    },
    "papermill": {
     "duration": 0.062521,
     "end_time": "2024-10-26T15:30:43.329722",
     "exception": false,
     "start_time": "2024-10-26T15:30:43.267201",
     "status": "completed"
    },
    "tags": []
   },
   "outputs": [
    {
     "name": "stdout",
     "output_type": "stream",
     "text": [
      "oof score roc auc is   0.967865018083492\n",
      "oof score for lgb   0.9615612220185863\n"
     ]
    }
   ],
   "source": [
    "print('oof score roc auc is  ',np.mean(oof_scores))\n",
    "print('oof score for lgb  ',np.mean(oof_scores1))\n",
    "all_probas = np.stack(predictions)\n",
    "avg_probas = np.mean(all_probas, axis=0)\n",
    "\n",
    "all_probas1 = np.stack(lgb_predictions)\n",
    "avg_probas1 = np.mean(all_probas1, axis=0)\n",
    "\n",
    "all_probas2 = np.stack(gb_predictions)\n",
    "avg_probas2 = np.mean(all_probas2, axis=0)\n",
    "\n",
    "all_probas3 = np.stack(hgb_predictions)\n",
    "avg_probas3 = np.mean(all_probas3, axis=0)\n",
    "\n",
    "all_probas4 = np.stack(lgb_dart_predictions)\n",
    "avg_probas4 = np.mean(all_probas4, axis=0)\n",
    "\n",
    "all_probas5 = np.stack(lgb_goss_predictions)\n",
    "avg_probas5 = np.mean(all_probas5, axis=0)\n",
    "\n",
    "all_probas6 = np.stack(xgb_predictions)\n",
    "avg_probas6 = np.mean(all_probas6, axis=0)\n",
    "\n",
    "all_probas7 = np.stack(cat2_predictions)\n",
    "avg_probas7 = np.mean(all_probas7, axis=0)\n",
    "\n",
    "all_probas8 = np.stack(cat3_predictions)\n",
    "avg_probas8 = np.mean(all_probas8, axis=0)\n",
    "\n",
    "total_probas =  best_weights[0] * avg_probas + best_weights[1] * avg_probas1 + best_weights[2]*avg_probas2 + best_weights[3]*avg_probas3+ best_weights[4]*avg_probas4+ best_weights[5]*avg_probas5 + best_weights[6]*avg_probas6 + best_weights[7]*avg_probas7+ best_weights[8]*avg_probas8"
   ]
  },
  {
   "cell_type": "code",
   "execution_count": 34,
   "id": "b24e5d42",
   "metadata": {
    "execution": {
     "iopub.execute_input": "2024-10-26T15:30:43.396590Z",
     "iopub.status.busy": "2024-10-26T15:30:43.395806Z",
     "iopub.status.idle": "2024-10-26T15:30:43.401332Z",
     "shell.execute_reply": "2024-10-26T15:30:43.400144Z"
    },
    "papermill": {
     "duration": 0.040025,
     "end_time": "2024-10-26T15:30:43.403702",
     "exception": false,
     "start_time": "2024-10-26T15:30:43.363677",
     "status": "completed"
    },
    "tags": []
   },
   "outputs": [],
   "source": [
    "# from sklearn.metrics import accuracy_score\n",
    "# from sklearn.metrics import recall_score, precision_score, log_loss, f1_score\n",
    "# Y1 = Y_test\n",
    "# #final_pred = result1_acc\n",
    "# score = accuracy_score(Y1, final_pred)\n",
    "# print('accuracy score is ', score)\n",
    "# print('Recall score is',recall_score(Y1, final_pred))\n",
    "# print('Precision score is',precision_score(Y1, final_pred))\n",
    "# print('log loss is ',log_loss(Y1, final_pred))\n",
    "# print('f1 score is ',f1_score(Y1, final_pred))"
   ]
  },
  {
   "cell_type": "code",
   "execution_count": null,
   "id": "7bf2cb16",
   "metadata": {
    "papermill": {
     "duration": 0.023241,
     "end_time": "2024-10-26T15:30:43.450519",
     "exception": false,
     "start_time": "2024-10-26T15:30:43.427278",
     "status": "completed"
    },
    "tags": []
   },
   "outputs": [],
   "source": []
  },
  {
   "cell_type": "code",
   "execution_count": 35,
   "id": "014126e6",
   "metadata": {
    "execution": {
     "iopub.execute_input": "2024-10-26T15:30:43.499725Z",
     "iopub.status.busy": "2024-10-26T15:30:43.499312Z",
     "iopub.status.idle": "2024-10-26T15:30:43.515373Z",
     "shell.execute_reply": "2024-10-26T15:30:43.514241Z"
    },
    "papermill": {
     "duration": 0.044354,
     "end_time": "2024-10-26T15:30:43.518111",
     "exception": false,
     "start_time": "2024-10-26T15:30:43.473757",
     "status": "completed"
    },
    "tags": []
   },
   "outputs": [],
   "source": [
    "probs = total_probas\n",
    "Result = pd.DataFrame()\n",
    "Result['id']=id\n",
    "if len(probs.shape) >1:\n",
    "    Result['loan_status'] = probs[:,1]\n",
    "else :\n",
    "    Result['loan_status'] = probs"
   ]
  },
  {
   "cell_type": "code",
   "execution_count": 36,
   "id": "c6ac6c27",
   "metadata": {
    "execution": {
     "iopub.execute_input": "2024-10-26T15:30:43.567141Z",
     "iopub.status.busy": "2024-10-26T15:30:43.566705Z",
     "iopub.status.idle": "2024-10-26T15:30:43.713018Z",
     "shell.execute_reply": "2024-10-26T15:30:43.711862Z"
    },
    "papermill": {
     "duration": 0.173952,
     "end_time": "2024-10-26T15:30:43.715708",
     "exception": false,
     "start_time": "2024-10-26T15:30:43.541756",
     "status": "completed"
    },
    "tags": []
   },
   "outputs": [],
   "source": [
    "Result.to_csv(\"submission.csv\",index=False)"
   ]
  },
  {
   "cell_type": "code",
   "execution_count": 37,
   "id": "cdcd0ac1",
   "metadata": {
    "execution": {
     "iopub.execute_input": "2024-10-26T15:30:43.764667Z",
     "iopub.status.busy": "2024-10-26T15:30:43.764239Z",
     "iopub.status.idle": "2024-10-26T15:30:43.771364Z",
     "shell.execute_reply": "2024-10-26T15:30:43.770268Z"
    },
    "papermill": {
     "duration": 0.034281,
     "end_time": "2024-10-26T15:30:43.773588",
     "exception": false,
     "start_time": "2024-10-26T15:30:43.739307",
     "status": "completed"
    },
    "tags": []
   },
   "outputs": [
    {
     "data": {
      "text/plain": [
       "'2.2.3'"
      ]
     },
     "execution_count": 37,
     "metadata": {},
     "output_type": "execute_result"
    }
   ],
   "source": [
    "pd.__version__"
   ]
  },
  {
   "cell_type": "code",
   "execution_count": 38,
   "id": "bc98ade2",
   "metadata": {
    "execution": {
     "iopub.execute_input": "2024-10-26T15:30:43.822809Z",
     "iopub.status.busy": "2024-10-26T15:30:43.822357Z",
     "iopub.status.idle": "2024-10-26T15:30:43.831073Z",
     "shell.execute_reply": "2024-10-26T15:30:43.829953Z"
    },
    "papermill": {
     "duration": 0.036482,
     "end_time": "2024-10-26T15:30:43.833774",
     "exception": false,
     "start_time": "2024-10-26T15:30:43.797292",
     "status": "completed"
    },
    "tags": []
   },
   "outputs": [
    {
     "data": {
      "text/plain": [
       "'2.0.3'"
      ]
     },
     "execution_count": 38,
     "metadata": {},
     "output_type": "execute_result"
    }
   ],
   "source": [
    "import xgboost as xgb\n",
    "\n",
    "xgb.__version__"
   ]
  },
  {
   "cell_type": "code",
   "execution_count": 39,
   "id": "a954751f",
   "metadata": {
    "execution": {
     "iopub.execute_input": "2024-10-26T15:30:43.883831Z",
     "iopub.status.busy": "2024-10-26T15:30:43.883403Z",
     "iopub.status.idle": "2024-10-26T15:30:43.888263Z",
     "shell.execute_reply": "2024-10-26T15:30:43.887217Z"
    },
    "papermill": {
     "duration": 0.0323,
     "end_time": "2024-10-26T15:30:43.890749",
     "exception": false,
     "start_time": "2024-10-26T15:30:43.858449",
     "status": "completed"
    },
    "tags": []
   },
   "outputs": [],
   "source": [
    "a, b = 3, 4"
   ]
  },
  {
   "cell_type": "code",
   "execution_count": 40,
   "id": "a247cbe2",
   "metadata": {
    "execution": {
     "iopub.execute_input": "2024-10-26T15:30:43.942109Z",
     "iopub.status.busy": "2024-10-26T15:30:43.941635Z",
     "iopub.status.idle": "2024-10-26T15:30:43.948429Z",
     "shell.execute_reply": "2024-10-26T15:30:43.947383Z"
    },
    "papermill": {
     "duration": 0.035653,
     "end_time": "2024-10-26T15:30:43.950661",
     "exception": false,
     "start_time": "2024-10-26T15:30:43.915008",
     "status": "completed"
    },
    "tags": []
   },
   "outputs": [
    {
     "data": {
      "text/plain": [
       "3"
      ]
     },
     "execution_count": 40,
     "metadata": {},
     "output_type": "execute_result"
    }
   ],
   "source": [
    "a"
   ]
  },
  {
   "cell_type": "code",
   "execution_count": null,
   "id": "c97ea002",
   "metadata": {
    "papermill": {
     "duration": 0.024251,
     "end_time": "2024-10-26T15:30:43.998859",
     "exception": false,
     "start_time": "2024-10-26T15:30:43.974608",
     "status": "completed"
    },
    "tags": []
   },
   "outputs": [],
   "source": []
  }
 ],
 "metadata": {
  "kaggle": {
   "accelerator": "none",
   "dataSources": [
    {
     "databundleVersionId": 9709193,
     "sourceId": 84894,
     "sourceType": "competition"
    },
    {
     "datasetId": 4675026,
     "sourceId": 7949759,
     "sourceType": "datasetVersion"
    }
   ],
   "dockerImageVersionId": 30786,
   "isGpuEnabled": false,
   "isInternetEnabled": true,
   "language": "python",
   "sourceType": "notebook"
  },
  "kernelspec": {
   "display_name": "Python 3",
   "language": "python",
   "name": "python3"
  },
  "language_info": {
   "codemirror_mode": {
    "name": "ipython",
    "version": 3
   },
   "file_extension": ".py",
   "mimetype": "text/x-python",
   "name": "python",
   "nbconvert_exporter": "python",
   "pygments_lexer": "ipython3",
   "version": "3.10.14"
  },
  "papermill": {
   "default_parameters": {},
   "duration": 19310.010444,
   "end_time": "2024-10-26T15:30:45.148430",
   "environment_variables": {},
   "exception": null,
   "input_path": "__notebook__.ipynb",
   "output_path": "__notebook__.ipynb",
   "parameters": {},
   "start_time": "2024-10-26T10:08:55.137986",
   "version": "2.6.0"
  }
 },
 "nbformat": 4,
 "nbformat_minor": 5
}
